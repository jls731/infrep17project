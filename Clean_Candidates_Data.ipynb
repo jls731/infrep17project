{
 "cells": [
  {
   "cell_type": "code",
   "execution_count": 6,
   "metadata": {
    "collapsed": true
   },
   "outputs": [],
   "source": [
    "#Filename: Clean_Candidates_Data.ipynb\n",
    "#Description: Load in candidates.csv and set up for analysis"
   ]
  },
  {
   "cell_type": "code",
   "execution_count": 22,
   "metadata": {
    "collapsed": true
   },
   "outputs": [],
   "source": [
    "#import necessary packages\n",
    "import numpy as np\n",
    "import pandas as pd\n",
    "import datetime"
   ]
  },
  {
   "cell_type": "code",
   "execution_count": 8,
   "metadata": {
    "collapsed": true
   },
   "outputs": [],
   "source": [
    "#load data\n",
    "\n",
    "#Candidate Data\n",
    "#candidates = pd.read_csv(\"candidates.csv\")\n",
    "mrs = pd.read_csv(\"mostRecentStatus.csv\")"
   ]
  },
  {
   "cell_type": "code",
   "execution_count": 9,
   "metadata": {},
   "outputs": [
    {
     "data": {
      "text/plain": [
       "Index(['is_placed', 'in_process', 'status_name', 'job_id', 'title',\n",
       "       'joborder_status', 'client_id', 'name', 'status_id', 'date_submitted',\n",
       "       'is_rockstar', 'status_name.1', 'status_html', 'candidate_id', 'fname',\n",
       "       'lname', 'nname', 'gender', 'minority', 'ivy', 'recruiter_id',\n",
       "       'date_created', 'email', 'altemail', 'consulting', 'permanent', 'phone',\n",
       "       'address', 'address_field', 'zip', 'source_id', 'source_notes',\n",
       "       'clarity', 'personability', 'year_began', 'i9', 'i9notes',\n",
       "       'h1b_entry_date', 'star', 'looking_status', 'recruiter_id2',\n",
       "       'recruiter_id3', 'fullname', 'recruiter_name', 'accman_name',\n",
       "       'willingToRelocate', 'source_id.1', 'sourceName', 'functionalCategory',\n",
       "       'functionalCat_id', 'technicalCategory', 'technicalCat_id',\n",
       "       'mainCategory', 'mainCat_id'],\n",
       "      dtype='object')"
      ]
     },
     "execution_count": 9,
     "metadata": {},
     "output_type": "execute_result"
    }
   ],
   "source": [
    "mrs.columns"
   ]
  },
  {
   "cell_type": "code",
   "execution_count": 10,
   "metadata": {},
   "outputs": [
    {
     "data": {
      "text/plain": [
       "Index(['is_placed', 'in_process', 'status_name', 'title', 'client_id',\n",
       "       'status_id', 'date_submitted', 'is_rockstar', 'status_name.1',\n",
       "       'candidate_id', 'fname', 'lname', 'gender', 'minority', 'ivy',\n",
       "       'recruiter_id', 'date_created', 'email', 'consulting', 'permanent',\n",
       "       'address', 'address_field', 'zip', 'source_id', 'clarity',\n",
       "       'personability', 'year_began', 'i9', 'willingToRelocate', 'source_id.1',\n",
       "       'sourceName', 'functionalCategory', 'functionalCat_id',\n",
       "       'technicalCategory', 'technicalCat_id', 'mainCategory', 'mainCat_id'],\n",
       "      dtype='object')"
      ]
     },
     "execution_count": 10,
     "metadata": {},
     "output_type": "execute_result"
    }
   ],
   "source": [
    "#drop variables that don't appear relevant\n",
    "# \"middleName\": mostly null\n",
    "# \"nickName\": mostly null\n",
    "# \"linkedInURL\": mostly null\n",
    "# \"address\": won't be using candidate address\n",
    "# \"sourceNotes: mostly null\n",
    "'''\n",
    "toDrop = ['middleName', 'nickName', 'linkedInUrl', 'address', 'sourceNotes']\n",
    "candidates = candidates.drop(toDrop, axis = 1)\n",
    "'''\n",
    "#Preprocessing drop\n",
    "#Merge address and address_field\n",
    "toDropMRS = ['nname', 'altemail', 'phone', 'job_id', 'joborder_status', 'status_html', 'fullname', 'recruiter_name',\n",
    "             'accman_name', 'name', 'source_notes', 'i9notes', 'h1b_entry_date', 'star', 'looking_status',\n",
    "             'recruiter_id2', 'recruiter_id3','source_id.1', 'status_name.1']\n",
    "\n",
    "mrs = mrs.drop(toDropMRS, axis = 1)\n",
    "mrs.columns"
   ]
  },
  {
   "cell_type": "code",
   "execution_count": null,
   "metadata": {
    "collapsed": true
   },
   "outputs": [],
   "source": []
  },
  {
   "cell_type": "code",
   "execution_count": 11,
   "metadata": {},
   "outputs": [
    {
     "name": "stdout",
     "output_type": "stream",
     "text": [
      "15570\n",
      "45\n",
      "5332\n"
     ]
    }
   ],
   "source": [
    "#Clean email\n",
    "#To Ryan: Should we try to extract the domain as an potential features? Are \"gmail\" users different \"aol\"\n",
    "\n",
    "#To Do\n",
    "mrs[\"is_gmail\"] = (1*(mrs[\"email\"].str.contains(\"@gmail\", na=False)))\n",
    "mrs[\"is_aol\"] = (1*(mrs[\"email\"].str.contains(\"@aol\", na=False)))\n",
    "mrs[\"is_custom\"] = (1*(~mrs[\"email\"].str.contains(\"@gmail|@aol\", na=False)))\n",
    "print(mrs[\"is_gmail\"].sum())\n",
    "print(mrs[\"is_aol\"].sum())\n",
    "print(mrs[\"is_custom\"].sum())\n",
    "\n",
    "#drop email in group later"
   ]
  },
  {
   "cell_type": "code",
   "execution_count": 12,
   "metadata": {},
   "outputs": [
    {
     "data": {
      "text/plain": [
       "1    18354\n",
       "0     2593\n",
       "Name: is_male, dtype: int64"
      ]
     },
     "execution_count": 12,
     "metadata": {},
     "output_type": "execute_result"
    }
   ],
   "source": [
    "#Clean gender\n",
    "#To Ryan: Looks like all the candidates are men...is this the full sample?\n",
    "mrs[\"is_male\"] = (1*(mrs[\"gender\"] == \"Male\"))\n",
    "mrs.is_male.value_counts()\n",
    "\n",
    "#drop gender in group later"
   ]
  },
  {
   "cell_type": "code",
   "execution_count": 13,
   "metadata": {},
   "outputs": [
    {
     "data": {
      "text/plain": [
       "0    19902\n",
       "1     1045\n",
       "Name: is_minority, dtype: int64"
      ]
     },
     "execution_count": 13,
     "metadata": {},
     "output_type": "execute_result"
    }
   ],
   "source": [
    "#Clean isMinority\n",
    "#To Ryan: What do these values mean again?\n",
    "mrs[\"is_minority\"] = (1*(mrs[\"minority\"] == \"on\"))\n",
    "mrs.is_minority.value_counts()\n",
    "\n",
    "#drop minority in group later"
   ]
  },
  {
   "cell_type": "code",
   "execution_count": 14,
   "metadata": {},
   "outputs": [
    {
     "data": {
      "text/plain": [
       "0    15812\n",
       "1     5135\n",
       "Name: is_ivy, dtype: int64"
      ]
     },
     "execution_count": 14,
     "metadata": {},
     "output_type": "execute_result"
    }
   ],
   "source": [
    "#Clean isIvy\n",
    "#To Ryan: What do these values mean again?\n",
    "mrs[\"is_ivy\"] = (1*(mrs[\"ivy\"] == \"on\"))\n",
    "mrs.is_ivy.value_counts()\n",
    "\n",
    "#drop ivy in group later"
   ]
  },
  {
   "cell_type": "code",
   "execution_count": 15,
   "metadata": {
    "collapsed": true
   },
   "outputs": [],
   "source": [
    "#Clean recruiterId\n",
    "#Nothing more to do\n",
    "\n",
    "#candidates.recruiterId.value_counts()"
   ]
  },
  {
   "cell_type": "code",
   "execution_count": null,
   "metadata": {
    "collapsed": true
   },
   "outputs": [],
   "source": []
  },
  {
   "cell_type": "code",
   "execution_count": 22,
   "metadata": {},
   "outputs": [
    {
     "name": "stdout",
     "output_type": "stream",
     "text": [
      "0    2008-05-05 13:45:50\n",
      "1    2008-05-05 13:49:45\n",
      "2    2008-05-05 14:12:22\n",
      "3    2008-05-05 14:17:25\n",
      "4    2008-05-05 14:20:10\n",
      "5    2008-05-05 14:22:26\n",
      "6    2008-05-05 14:25:33\n",
      "7    2008-05-05 14:31:00\n",
      "8    2008-05-05 14:32:53\n",
      "9    2008-05-05 14:35:47\n",
      "Name: candidateCreationDate, dtype: object\n"
     ]
    }
   ],
   "source": [
    "#Clean candidateCreationDate\n",
    "#Nothing here to do\n",
    "\n",
    "print(candidates.candidateCreationDate[0:10])"
   ]
  },
  {
   "cell_type": "code",
   "execution_count": null,
   "metadata": {
    "collapsed": true
   },
   "outputs": [],
   "source": [
    "#Clean zip\n",
    "#Nothing to do here?\n",
    "\n",
    "#To Do"
   ]
  },
  {
   "cell_type": "code",
   "execution_count": 16,
   "metadata": {},
   "outputs": [
    {
     "data": {
      "text/plain": [
       "1    13064\n",
       "0     7883\n",
       "Name: willingToRelocate, dtype: int64"
      ]
     },
     "execution_count": 16,
     "metadata": {},
     "output_type": "execute_result"
    }
   ],
   "source": [
    "#Clean isWillingRelocate\n",
    "#To Ryan: What do the \"-1\" mean?\n",
    "#mrs[\"is_ivy\"] = (1*(mrs[\"ivy\"] == \"on\"))\n",
    "#mrs.is_ivy.value_counts()\n",
    "mrs.willingToRelocate.value_counts()\n",
    "#candidates.isWillingRelocate.value_counts()"
   ]
  },
  {
   "cell_type": "code",
   "execution_count": 18,
   "metadata": {},
   "outputs": [
    {
     "data": {
      "text/plain": [
       "5      16732\n",
       "7       1560\n",
       "8       1279\n",
       "6        406\n",
       "4        265\n",
       "303      263\n",
       "1        120\n",
       "3        101\n",
       "304       92\n",
       "9         66\n",
       "306       27\n",
       "305       20\n",
       "35        14\n",
       "12         1\n",
       "2          1\n",
       "Name: source_id, dtype: int64"
      ]
     },
     "execution_count": 18,
     "metadata": {},
     "output_type": "execute_result"
    }
   ],
   "source": [
    "#Clean sourceId\n",
    "#What is this feature?\n",
    "#Source where candidate originated from. Look in data for source names\n",
    "\n",
    "mrs.source_id.value_counts()"
   ]
  },
  {
   "cell_type": "code",
   "execution_count": 19,
   "metadata": {},
   "outputs": [
    {
     "data": {
      "text/plain": [
       "5.0    13425\n",
       "0.0     5246\n",
       "4.0     1795\n",
       "3.0      349\n",
       "2.0       22\n",
       "1.0        2\n",
       "Name: clarity, dtype: int64"
      ]
     },
     "execution_count": 19,
     "metadata": {},
     "output_type": "execute_result"
    }
   ],
   "source": [
    "#Clean clarity\n",
    "#To Ryan: What should we do with NaN? We can't code them as zero\n",
    "#Might have to throw away feature. I believe this is filled in at max most times w/o thought\n",
    "mrs.clarity.value_counts()"
   ]
  },
  {
   "cell_type": "code",
   "execution_count": 31,
   "metadata": {},
   "outputs": [
    {
     "data": {
      "text/plain": [
       "5.0    21755\n",
       "0.0     9211\n",
       "4.0     1873\n",
       "3.0      288\n",
       "2.0       14\n",
       "1.0        7\n",
       "Name: personability, dtype: int64"
      ]
     },
     "execution_count": 31,
     "metadata": {},
     "output_type": "execute_result"
    }
   ],
   "source": [
    "#Clean personability\n",
    "#To Ryan: What should we do with NaN? We can't code them as zero\n",
    "#Might have to throw away feature. I believe this is filled in at max most times w/o thought\n",
    "candidates.personability.value_counts()"
   ]
  },
  {
   "cell_type": "code",
   "execution_count": 26,
   "metadata": {},
   "outputs": [],
   "source": [
    "#Clean yearBeganExperience\n",
    "#Use the difference between when the candidate was inputted into the database and \"yearBeganExperience\"\n",
    "#Created \"yearsOfExp\"C\n",
    "nowYear = datetime.datetime.now().year\n",
    "mrs['yearsOfExp'] = nowYear-mrs['year_began']\n",
    "\n",
    "#drop year_began later"
   ]
  },
  {
   "cell_type": "code",
   "execution_count": 37,
   "metadata": {},
   "outputs": [
    {
     "name": "stdout",
     "output_type": "stream",
     "text": [
      "Eligible(USC-GC)    11142\n",
      "H1B Visa             6799\n",
      "Unknown              1190\n",
      "Other                 861\n",
      "TN Visaa              650\n",
      "EAD                   294\n",
      "U.S. Citizen            2\n",
      "Name: i9, dtype: int64\n"
     ]
    },
    {
     "data": {
      "text/plain": [
       "1    11144\n",
       "0     9803\n",
       "Name: is_citizen, dtype: int64"
      ]
     },
     "execution_count": 37,
     "metadata": {},
     "output_type": "execute_result"
    }
   ],
   "source": [
    "#Clean i9\n",
    "#To Ryan: Should create dummies from this? Does USC-GC mean US Citizen?\n",
    "mrs[\"is_citizen\"] = (1*(mrs[\"i9\"].str.contains(\"Eligible|U.S. Citizen\", na=False)))\n",
    "\n",
    "print(mrs.i9.value_counts())\n",
    "mrs.is_citizen.value_counts()\n",
    "\n",
    "#drop i9 later\n"
   ]
  },
  {
   "cell_type": "code",
   "execution_count": 38,
   "metadata": {
    "collapsed": true
   },
   "outputs": [],
   "source": [
    "#Need to clean the bottom features\n",
    "#funcCatName\n",
    "#funcCatId\n",
    "#techCatName\n",
    "#techCatId\n",
    "#mainCatName\n",
    "#mainCatId\n",
    "\n",
    "#These all formatted as such value, [another value, another value]\n",
    "#For both Ids and Name. Have to decide how we're going to use it"
   ]
  },
  {
   "cell_type": "code",
   "execution_count": 39,
   "metadata": {},
   "outputs": [
    {
     "data": {
      "text/plain": [
       "Index(['is_placed', 'in_process', 'status_name', 'title', 'client_id',\n",
       "       'status_id', 'date_submitted', 'is_rockstar', 'status_name.1',\n",
       "       'candidate_id', 'fname', 'lname', 'recruiter_id', 'date_created',\n",
       "       'consulting', 'permanent', 'address', 'address_field', 'zip',\n",
       "       'source_id', 'clarity', 'personability', 'willingToRelocate',\n",
       "       'source_id.1', 'sourceName', 'functionalCategory', 'functionalCat_id',\n",
       "       'technicalCategory', 'technicalCat_id', 'mainCategory', 'mainCat_id',\n",
       "       'is_gmail', 'is_aol', 'is_custom', 'is_male', 'is_minority', 'is_ivy',\n",
       "       'yearsOfExp', 'is_citizen'],\n",
       "      dtype='object')"
      ]
     },
     "execution_count": 39,
     "metadata": {},
     "output_type": "execute_result"
    }
   ],
   "source": [
    "postProcessDrop = ['i9', 'year_began', 'ivy', 'minority', 'gender', 'email']\n",
    "\n",
    "\n",
    "mrs = mrs.drop(postProcessDrop, axis = 1)\n",
    "mrs.columns"
   ]
  },
  {
   "cell_type": "code",
   "execution_count": null,
   "metadata": {
    "collapsed": true
   },
   "outputs": [],
   "source": []
  }
 ],
 "metadata": {
  "kernelspec": {
   "display_name": "Python 3",
   "language": "python",
   "name": "python3"
  },
  "language_info": {
   "codemirror_mode": {
    "name": "ipython",
    "version": 3
   },
   "file_extension": ".py",
   "mimetype": "text/x-python",
   "name": "python",
   "nbconvert_exporter": "python",
   "pygments_lexer": "ipython3",
   "version": "3.6.2"
  }
 },
 "nbformat": 4,
 "nbformat_minor": 2
}
