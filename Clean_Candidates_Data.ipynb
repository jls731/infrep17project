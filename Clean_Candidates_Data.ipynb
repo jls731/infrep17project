{
 "cells": [
  {
   "cell_type": "code",
   "execution_count": 1,
   "metadata": {
    "collapsed": true
   },
   "outputs": [],
   "source": [
    "#Filename: Clean_Candidates_Data.ipynb\n",
    "#Description: Load in candidates.csv and set up for analysis"
   ]
  },
  {
   "cell_type": "code",
   "execution_count": 2,
   "metadata": {
    "collapsed": true
   },
   "outputs": [],
   "source": [
    "#import necessary packages\n",
    "import numpy as np\n",
    "import pandas as pd"
   ]
  },
  {
   "cell_type": "code",
   "execution_count": 5,
   "metadata": {
    "collapsed": true
   },
   "outputs": [],
   "source": [
    "#load data\n",
    "\n",
    "#Candidate Data\n",
    "candidates = pd.read_csv(\"candidates.csv\")"
   ]
  },
  {
   "cell_type": "code",
   "execution_count": 9,
   "metadata": {
    "collapsed": false
   },
   "outputs": [],
   "source": [
    "#drop variables that don't appear relevant\n",
    "# \"middleName\": mostly null\n",
    "# \"nickName\": mostly null\n",
    "# \"linkedInURL\": mostly null\n",
    "# \"address\": won't be using candidate address\n",
    "# \"sourceNotes: mostly null\n",
    "\n",
    "toDrop = ['middleName', 'nickName', 'linkedInUrl', 'address', 'sourceNotes']\n",
    "candidates = candidates.drop(toDrop, axis = 1)"
   ]
  },
  {
   "cell_type": "code",
   "execution_count": null,
   "metadata": {
    "collapsed": true
   },
   "outputs": [],
   "source": [
    "#Clean email\n",
    "#To Ryan: Should we try to extract the domain as an potential features? Are \"gmail\" users different \"aol\"\n",
    "\n",
    "#To Do"
   ]
  },
  {
   "cell_type": "code",
   "execution_count": 15,
   "metadata": {
    "collapsed": false
   },
   "outputs": [
    {
     "data": {
      "text/plain": [
       "M    45615\n",
       "Name: gender, dtype: int64"
      ]
     },
     "execution_count": 15,
     "metadata": {},
     "output_type": "execute_result"
    }
   ],
   "source": [
    "#Clean gender\n",
    "#To Ryan: Looks like all the candidates are men...is this the full sample?\n",
    "candidates.gender.value_counts()"
   ]
  },
  {
   "cell_type": "code",
   "execution_count": 16,
   "metadata": {
    "collapsed": false
   },
   "outputs": [
    {
     "data": {
      "text/plain": [
       "2    28508\n",
       "0    16135\n",
       "1      972\n",
       "Name: isMinority, dtype: int64"
      ]
     },
     "execution_count": 16,
     "metadata": {},
     "output_type": "execute_result"
    }
   ],
   "source": [
    "#Clean isMinority\n",
    "#To Ryan: What do these values mean again?\n",
    "\n",
    "candidates.isMinority.value_counts()"
   ]
  },
  {
   "cell_type": "code",
   "execution_count": 18,
   "metadata": {
    "collapsed": false
   },
   "outputs": [
    {
     "data": {
      "text/plain": [
       "2    40230\n",
       "1     5384\n",
       "0        1\n",
       "Name: isIvy, dtype: int64"
      ]
     },
     "execution_count": 18,
     "metadata": {},
     "output_type": "execute_result"
    }
   ],
   "source": [
    "#Clean isIvy\n",
    "#To Ryan: What do these values mean again?\n",
    "\n",
    "candidates.isIvy.value_counts()"
   ]
  },
  {
   "cell_type": "code",
   "execution_count": 20,
   "metadata": {
    "collapsed": false
   },
   "outputs": [
    {
     "data": {
      "text/plain": [
       "30.0     8108\n",
       "22.0     5249\n",
       "19.0     1461\n",
       "0.0      1386\n",
       "76.0     1258\n",
       "70.0     1074\n",
       "10.0      997\n",
       "72.0      988\n",
       "62.0      987\n",
       "63.0      938\n",
       "31.0      866\n",
       "97.0      825\n",
       "77.0      778\n",
       "80.0      754\n",
       "51.0      751\n",
       "104.0     701\n",
       "108.0     690\n",
       "131.0     611\n",
       "87.0      594\n",
       "2.0       589\n",
       "120.0     577\n",
       "122.0     540\n",
       "128.0     533\n",
       "106.0     532\n",
       "103.0     499\n",
       "26.0      480\n",
       "99.0      468\n",
       "15.0      457\n",
       "129.0     425\n",
       "111.0     413\n",
       "         ... \n",
       "147.0      99\n",
       "144.0      98\n",
       "152.0      98\n",
       "37.0       98\n",
       "154.0      96\n",
       "164.0      91\n",
       "46.0       83\n",
       "166.0      77\n",
       "12.0       72\n",
       "130.0      71\n",
       "151.0      65\n",
       "163.0      64\n",
       "158.0      60\n",
       "3.0        58\n",
       "156.0      56\n",
       "160.0      49\n",
       "159.0      48\n",
       "155.0      42\n",
       "168.0      38\n",
       "96.0       32\n",
       "167.0      28\n",
       "169.0      22\n",
       "25.0       22\n",
       "29.0       20\n",
       "135.0      19\n",
       "13.0        5\n",
       "170.0       1\n",
       "8.0         1\n",
       "119.0       1\n",
       "6.0         1\n",
       "Name: recruiterId, dtype: int64"
      ]
     },
     "execution_count": 20,
     "metadata": {},
     "output_type": "execute_result"
    }
   ],
   "source": [
    "#Clean recruiterId\n",
    "#Nothing more to do\n",
    "\n",
    "candidates.recruiterId.value_counts()"
   ]
  },
  {
   "cell_type": "code",
   "execution_count": null,
   "metadata": {
    "collapsed": true
   },
   "outputs": [],
   "source": [
    "#Clean phoneNumber\n",
    "#Should we extract the area code? We may want to drop\n",
    "\n",
    "candidates.phoneNumber.value_counts()"
   ]
  },
  {
   "cell_type": "code",
   "execution_count": 22,
   "metadata": {
    "collapsed": false
   },
   "outputs": [
    {
     "name": "stdout",
     "output_type": "stream",
     "text": [
      "0    2008-05-05 13:45:50\n",
      "1    2008-05-05 13:49:45\n",
      "2    2008-05-05 14:12:22\n",
      "3    2008-05-05 14:17:25\n",
      "4    2008-05-05 14:20:10\n",
      "5    2008-05-05 14:22:26\n",
      "6    2008-05-05 14:25:33\n",
      "7    2008-05-05 14:31:00\n",
      "8    2008-05-05 14:32:53\n",
      "9    2008-05-05 14:35:47\n",
      "Name: candidateCreationDate, dtype: object\n"
     ]
    }
   ],
   "source": [
    "#Clean candidateCreationDate\n",
    "#Nothing here to do\n",
    "\n",
    "print(candidates.candidateCreationDate[0:10])"
   ]
  },
  {
   "cell_type": "code",
   "execution_count": null,
   "metadata": {
    "collapsed": true
   },
   "outputs": [],
   "source": [
    "#Clean zip\n",
    "#Nothing to do here?\n",
    "\n",
    "#To Do"
   ]
  },
  {
   "cell_type": "code",
   "execution_count": 23,
   "metadata": {
    "collapsed": false
   },
   "outputs": [
    {
     "data": {
      "text/plain": [
       " 0    33337\n",
       " 1    12171\n",
       "-1      107\n",
       "Name: isWillingRelocate, dtype: int64"
      ]
     },
     "execution_count": 23,
     "metadata": {},
     "output_type": "execute_result"
    }
   ],
   "source": [
    "#Clean isWillingRelocate\n",
    "#To Ryan: What do the \"-1\" mean?\n",
    "\n",
    "candidates.isWillingRelocate.value_counts()"
   ]
  },
  {
   "cell_type": "code",
   "execution_count": 27,
   "metadata": {
    "collapsed": false
   },
   "outputs": [
    {
     "data": {
      "text/plain": [
       "5      19545\n",
       "6      12922\n",
       "7       5214\n",
       "3       2830\n",
       "8       1331\n",
       "2       1257\n",
       "1        817\n",
       "4        740\n",
       "9        169\n",
       "10       141\n",
       "303      108\n",
       "12        88\n",
       "0         81\n",
       "300       80\n",
       "304       61\n",
       "35        57\n",
       "302       57\n",
       "13        37\n",
       "11        26\n",
       "306       23\n",
       "305       22\n",
       "33         7\n",
       "14         2\n",
       "Name: sourceId, dtype: int64"
      ]
     },
     "execution_count": 27,
     "metadata": {},
     "output_type": "execute_result"
    }
   ],
   "source": [
    "#Clean sourceId\n",
    "#To Ryan: What is this feature?\n",
    "\n",
    "candidates.sourceId.value_counts()"
   ]
  },
  {
   "cell_type": "code",
   "execution_count": 30,
   "metadata": {
    "collapsed": false
   },
   "outputs": [
    {
     "data": {
      "text/plain": [
       "5.0    21048\n",
       "0.0     9153\n",
       "4.0     2481\n",
       "3.0      437\n",
       "2.0       26\n",
       "1.0        6\n",
       "Name: clarity, dtype: int64"
      ]
     },
     "execution_count": 30,
     "metadata": {},
     "output_type": "execute_result"
    }
   ],
   "source": [
    "#Clean clarity\n",
    "#To Ryan: What should we do with NaN? We can't code them as zero\n",
    "candidates.clarity.value_counts()"
   ]
  },
  {
   "cell_type": "code",
   "execution_count": 31,
   "metadata": {
    "collapsed": false
   },
   "outputs": [
    {
     "data": {
      "text/plain": [
       "5.0    21755\n",
       "0.0     9211\n",
       "4.0     1873\n",
       "3.0      288\n",
       "2.0       14\n",
       "1.0        7\n",
       "Name: personability, dtype: int64"
      ]
     },
     "execution_count": 31,
     "metadata": {},
     "output_type": "execute_result"
    }
   ],
   "source": [
    "#Clean personability\n",
    "#To Ryan: What should we do with NaN? We can't code them as zero\n",
    "candidates.personability.value_counts()"
   ]
  },
  {
   "cell_type": "code",
   "execution_count": 39,
   "metadata": {
    "collapsed": false
   },
   "outputs": [
    {
     "name": "stdout",
     "output_type": "stream",
     "text": [
      "   candidateId   firstName    lastName                         email gender  \\\n",
      "0            3     Crystal       Kurtz       crystal.kurtz@gmail.com      M   \n",
      "1            4      Sudhir       Kumar       sudhirkumar@comcast.net      M   \n",
      "2            6     Matthew      Harris  matthew.s.harris@hotmail.com      M   \n",
      "3            8     Laurie     Andreola        landreola@hvc.rr.com        M   \n",
      "4            9       Samir       Patel       jungletrader@excite.com      M   \n",
      "5           10      Sunita  Kirubalani           SKirubalani@aol.com      M   \n",
      "6           12        Boaz       Amir             BoazAmir@yahoo.com      M   \n",
      "7           13      Sanjay       Gupta           sankg2001@gmail.com      M   \n",
      "8           14  Chester Z.        Dong            xing808@gmail.com       M   \n",
      "9           15    Jennifer       Zhang            jz2008@comcast.net      M   \n",
      "\n",
      "   isMinority  isIvy  recruiterId phoneNumber candidateCreationDate  \\\n",
      "0           0      2         10.0  9737141864   2008-05-05 13:45:50   \n",
      "1           0      2         22.0  7325127742   2008-05-05 13:49:45   \n",
      "2           2      2         10.0  8053048430   2008-05-05 14:12:22   \n",
      "3           0      2         10.0  8453440901   2008-05-05 14:17:25   \n",
      "4           0      2         26.0  2014591896   2008-05-05 14:20:10   \n",
      "5           0      2         24.0  7325613146   2008-05-05 14:22:26   \n",
      "6           2      2        120.0  5162874708   2008-05-05 14:25:33   \n",
      "7           0      2         99.0  5516891032   2008-05-05 14:31:00   \n",
      "8           0      2         10.0  6462213999   2008-05-05 14:32:53   \n",
      "9           0      2         19.0  6107660254   2008-05-05 14:35:47   \n",
      "\n",
      "      ...     isPermanent  isConsulting  \\\n",
      "0     ...               0             0   \n",
      "1     ...               0             0   \n",
      "2     ...               0             0   \n",
      "3     ...               0             0   \n",
      "4     ...               0             0   \n",
      "5     ...               0             0   \n",
      "6     ...               0             0   \n",
      "7     ...               1             1   \n",
      "8     ...               0             0   \n",
      "9     ...               0             0   \n",
      "\n",
      "                              funcCatName  funcCatId           techCatName  \\\n",
      "0         Developer, Developer, Developer    5, 5, 5  C#/Web, C#/WPF, Java   \n",
      "1  Gen. Infra Manager, Gen. Infra Manager     17, 17           Linux, UNIX   \n",
      "2                                     DBA         11          MS SQLServer   \n",
      "3        Systems Admin/Eng, Web Admin/Eng     21, 28      Windows, Windows   \n",
      "4                        Business Analyst         33                   NaN   \n",
      "5         Developer, Developer, Developer    5, 5, 5   C#/Web, C#/WPF, C++   \n",
      "6                    Developer, Developer       5, 5            J2EE, Java   \n",
      "7                    Developer, Developer       5, 5            J2EE, Java   \n",
      "8                               Developer          5                   NaN   \n",
      "9                    Developer, Team Lead       5, 6                   NaN   \n",
      "\n",
      "   techCatId                            mainCatName mainCatId  year  \\\n",
      "0  2, 23, 24  Development, Development, Development   1, 1, 1  2008   \n",
      "1     11, 17         Infrastructure, Infrastructure      2, 2  2008   \n",
      "2          9                               Database         5  2008   \n",
      "3     12, 12         Infrastructure, Infrastructure      2, 2  2008   \n",
      "4        NaN                                    NaN       NaN  2008   \n",
      "5  1, 23, 24  Development, Development, Development   1, 1, 1  2008   \n",
      "6       2, 3               Development, Development      1, 1  2008   \n",
      "7       2, 3               Development, Development      1, 1  2008   \n",
      "8        NaN                                    NaN       NaN  2008   \n",
      "9        NaN                                    NaN       NaN  2008   \n",
      "\n",
      "   yearsOfExp  \n",
      "0         8.0  \n",
      "1        11.0  \n",
      "2         6.0  \n",
      "3        10.0  \n",
      "4        12.0  \n",
      "5         9.0  \n",
      "6        25.0  \n",
      "7         7.0  \n",
      "8         3.0  \n",
      "9        10.0  \n",
      "\n",
      "[10 rows x 28 columns]\n"
     ]
    }
   ],
   "source": [
    "#Clean yearBeganExperience\n",
    "#Use the difference between when the candidate was inputted into the database and \"yearBeganExperience\"\n",
    "#Created \"yearsOfExp\"C\n",
    "candidates['year'] = pd.DatetimeIndex(candidates['candidateCreationDate']).year\n",
    "candidates['yearsOfExp'] = candidates['year']-candidates['yearBeganExperience']\n"
   ]
  },
  {
   "cell_type": "code",
   "execution_count": 42,
   "metadata": {
    "collapsed": false
   },
   "outputs": [
    {
     "data": {
      "text/plain": [
       "Eligible(USC-GC)    20430\n",
       "H1B Visa             6990\n",
       "Unknown              4141\n",
       "Other                1609\n",
       "TN Visaa              445\n",
       "EAD                   393\n",
       "U.S. Citizen            7\n",
       "Green Card              3\n",
       "TN Visa                 1\n",
       "Name: i9, dtype: int64"
      ]
     },
     "execution_count": 42,
     "metadata": {},
     "output_type": "execute_result"
    }
   ],
   "source": [
    "#Clean i9\n",
    "#To Ryan: Should create dummies from this? Does USC-GC mean US Citizen?\n",
    "\n",
    "candidates.i9.value_counts()"
   ]
  },
  {
   "cell_type": "code",
   "execution_count": 44,
   "metadata": {
    "collapsed": false
   },
   "outputs": [
    {
     "data": {
      "text/plain": [
       "USC                                                                                                                                                                                1397\n",
       "GC                                                                                                                                                                                  556\n",
       "US Citizen                                                                                                                                                                          415\n",
       "Green Card                                                                                                                                                                          315\n",
       "I-140 approved                                                                                                                                                                      280\n",
       "US citizen                                                                                                                                                                          205\n",
       "Canadian Citizen                                                                                                                                                                    193\n",
       "citizen                                                                                                                                                                             179\n",
       "EAD                                                                                                                                                                                 169\n",
       "OPT                                                                                                                                                                                 143\n",
       "I-140 Approved                                                                                                                                                                      115\n",
       "Citizen                                                                                                                                                                             109\n",
       "3 years left                                                                                                                                                                         84\n",
       "Green Card Holder                                                                                                                                                                    76\n",
       "4 years left                                                                                                                                                                         66\n",
       "3 years remaining                                                                                                                                                                    61\n",
       "i140 approved                                                                                                                                                                        58\n",
       "4 years remaining                                                                                                                                                                    56\n",
       "He has his I-140.                                                                                                                                                                    54\n",
       "5 years remaining                                                                                                                                                                    46\n",
       "U.S. Citizen                                                                                                                                                                         45\n",
       "I-140                                                                                                                                                                                42\n",
       "5 years left                                                                                                                                                                         42\n",
       "i140 approval                                                                                                                                                                        40\n",
       "I140 approved                                                                                                                                                                        39\n",
       "140 approved                                                                                                                                                                         38\n",
       "Canadian                                                                                                                                                                             38\n",
       "green card                                                                                                                                                                           36\n",
       "Greencard                                                                                                                                                                            34\n",
       "TN Visa                                                                                                                                                                              32\n",
       "                                                                                                                                                                                   ... \n",
       "18 months left. but his EAD has just been filed (marriage) . so that is already in process                                                                                            1\n",
       "began 2012                                                                                                                                                                            1\n",
       "I140, has 28 months left on H1B and can have a 36 month extension after that                                                                                                          1\n",
       "Good until 2018, I-140 Approved, Priority date July 2011                                                                                                                              1\n",
       "OPT Visa issued August 31                                                                                                                                                             1\n",
       "ETA (Australian Electronic Travel Authority)                                                                                                                                          1\n",
       "E3 aussie                                                                                                                                                                             1\n",
       "OPT 2 years                                                                                                                                                                           1\n",
       "3 years remaining on his H1                                                                                                                                                           1\n",
       "OPT Visa - Valid Until October 2019                                                                                                                                                   1\n",
       "OPT - has 1 more year left, H1B is approved, just needs employer sponsorship                                                                                                          1\n",
       "Canadian citizen and E3                                                                                                                                                               1\n",
       "issued Oct 2015                                                                                                                                                                       1\n",
       "H1B issued in 2006; I-140 approved in Sep 2008                                                                                                                                        1\n",
       "good until October 2019                                                                                                                                                               1\n",
       "L1 with I-140 approved. Now eligible to work for any employer.                                                                                                                        1\n",
       "Kamal\\'s 140 has been approved for 3 years.  His I485 has been filed and is awaiting approval.  he would only make a move if WGen can keep his current place in the GC process.       1\n",
       "TN Visa - Canandian Citizen                                                                                                                                                           1\n",
       "Expires in 2017.                                                                                                                                                                      1\n",
       "needs to file for extension by October                                                                                                                                                1\n",
       "H1B issued in 2013; I140 is on its way but not approved officially                                                                                                                    1\n",
       "More than 3.5 years remaining                                                                                                                                                         1\n",
       "OPT- 2016                                                                                                                                                                             1\n",
       "has H1B and E visa                                                                                                                                                                    1\n",
       "valid until 7/2018 but has three yr extension and I-140 approved                                                                                                                      1\n",
       "H1B Issued Oct. 2016                                                                                                                                                                  1\n",
       "H4. I-140 Approved                                                                                                                                                                    1\n",
       "H1 issued May 2016. I-140 is approved                                                                                                                                                 1\n",
       "march 2016                                                                                                                                                                            1\n",
       "started Oct 2011                                                                                                                                                                      1\n",
       "Name: i9notes, dtype: int64"
      ]
     },
     "execution_count": 44,
     "metadata": {},
     "output_type": "execute_result"
    }
   ],
   "source": [
    "#Clean i9notes\n",
    "#To Ryan: A bit messy, not sure we can use\n",
    "\n",
    "candidates.i9notes.value_counts()"
   ]
  },
  {
   "cell_type": "code",
   "execution_count": 45,
   "metadata": {
    "collapsed": false
   },
   "outputs": [
    {
     "data": {
      "text/plain": [
       "0    32704\n",
       "1    12911\n",
       "Name: isPermanent, dtype: int64"
      ]
     },
     "execution_count": 45,
     "metadata": {},
     "output_type": "execute_result"
    }
   ],
   "source": [
    "#Clean isPermanent\n",
    "#Permanent vs temp hire?\n",
    "\n",
    "candidates.isPermanent.value_counts()"
   ]
  },
  {
   "cell_type": "code",
   "execution_count": 46,
   "metadata": {
    "collapsed": false
   },
   "outputs": [
    {
     "data": {
      "text/plain": [
       "0    40844\n",
       "1     4771\n",
       "Name: isConsulting, dtype: int64"
      ]
     },
     "execution_count": 46,
     "metadata": {},
     "output_type": "execute_result"
    }
   ],
   "source": [
    "#Clean isConsulting\n",
    "candidates.isConsulting.value_counts()"
   ]
  },
  {
   "cell_type": "code",
   "execution_count": null,
   "metadata": {
    "collapsed": true
   },
   "outputs": [],
   "source": [
    "#Need to clean the bottom features\n",
    "#funcCatName\n",
    "#funcCatId\n",
    "#techCatName\n",
    "#techCatId\n",
    "#mainCatName\n",
    "#mainCatId"
   ]
  }
 ],
 "metadata": {
  "kernelspec": {
   "display_name": "Python 3",
   "language": "python",
   "name": "python3"
  },
  "language_info": {
   "codemirror_mode": {
    "name": "ipython",
    "version": 3
   },
   "file_extension": ".py",
   "mimetype": "text/x-python",
   "name": "python",
   "nbconvert_exporter": "python",
   "pygments_lexer": "ipython3",
   "version": "3.6.0"
  }
 },
 "nbformat": 4,
 "nbformat_minor": 2
}
