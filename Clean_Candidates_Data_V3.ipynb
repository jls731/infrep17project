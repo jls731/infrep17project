{
 "cells": [
  {
   "cell_type": "code",
   "execution_count": 1,
   "metadata": {
    "collapsed": true
   },
   "outputs": [],
   "source": [
    "#Filename: Clean_Candidates_Data.ipynb\n",
    "#Description: Load in candidates.csv and set up for analysis"
   ]
  },
  {
   "cell_type": "code",
   "execution_count": 67,
   "metadata": {
    "collapsed": false
   },
   "outputs": [],
   "source": [
    "#import necessary packages\n",
    "import numpy as np\n",
    "import pandas as pd\n",
    "import datetime\n",
    "from sklearn import decomposition\n",
    "from sklearn import datasets\n",
    "import matplotlib.pyplot as plt\n",
    "import mglearn\n",
    "import mca"
   ]
  },
  {
   "cell_type": "code",
   "execution_count": 3,
   "metadata": {
    "collapsed": true
   },
   "outputs": [],
   "source": [
    "#load data\n",
    "\n",
    "#Candidate Data\n",
    "#candidates = pd.read_csv(\"candidates.csv\")\n",
    "mrs = pd.read_csv(\"mostRecentStatus.csv\")"
   ]
  },
  {
   "cell_type": "code",
   "execution_count": 4,
   "metadata": {
    "collapsed": false
   },
   "outputs": [
    {
     "data": {
      "text/plain": [
       "Index(['is_placed', 'in_process', 'status_name', 'job_id', 'title',\n",
       "       'joborder_status', 'client_id', 'name', 'status_id', 'date_submitted',\n",
       "       'is_rockstar', 'status_name.1', 'status_html', 'candidate_id', 'fname',\n",
       "       'lname', 'nname', 'gender', 'minority', 'ivy', 'recruiter_id',\n",
       "       'date_created', 'email', 'altemail', 'consulting', 'permanent', 'phone',\n",
       "       'address', 'address_field', 'zip', 'source_id', 'source_notes',\n",
       "       'clarity', 'personability', 'year_began', 'i9', 'i9notes',\n",
       "       'h1b_entry_date', 'star', 'looking_status', 'recruiter_id2',\n",
       "       'recruiter_id3', 'fullname', 'recruiter_name', 'accman_name',\n",
       "       'willingToRelocate', 'source_id.1', 'sourceName', 'functionalCategory',\n",
       "       'functionalCat_id', 'technicalCategory', 'technicalCat_id',\n",
       "       'mainCategory', 'mainCat_id'],\n",
       "      dtype='object')"
      ]
     },
     "execution_count": 4,
     "metadata": {},
     "output_type": "execute_result"
    }
   ],
   "source": [
    "mrs.columns"
   ]
  },
  {
   "cell_type": "code",
   "execution_count": 5,
   "metadata": {
    "collapsed": false
   },
   "outputs": [
    {
     "data": {
      "text/plain": [
       "Index(['is_placed', 'in_process', 'status_name', 'title', 'client_id',\n",
       "       'status_id', 'date_submitted', 'is_rockstar', 'candidate_id', 'fname',\n",
       "       'lname', 'gender', 'minority', 'ivy', 'recruiter_id', 'date_created',\n",
       "       'email', 'consulting', 'permanent', 'zip', 'source_id', 'clarity',\n",
       "       'personability', 'year_began', 'i9', 'willingToRelocate', 'sourceName',\n",
       "       'functionalCategory', 'functionalCat_id', 'technicalCategory',\n",
       "       'technicalCat_id', 'mainCategory', 'mainCat_id'],\n",
       "      dtype='object')"
      ]
     },
     "execution_count": 5,
     "metadata": {},
     "output_type": "execute_result"
    }
   ],
   "source": [
    "#drop variables that don't appear relevant\n",
    "# \"middleName\": mostly null\n",
    "# \"nickName\": mostly null\n",
    "# \"linkedInURL\": mostly null\n",
    "# \"address\": won't be using candidate address\n",
    "# \"sourceNotes: mostly null\n",
    "'''\n",
    "toDrop = ['middleName', 'nickName', 'linkedInUrl', 'address', 'sourceNotes']\n",
    "candidates = candidates.drop(toDrop, axis = 1)\n",
    "'''\n",
    "#Preprocessing drop\n",
    "#Merge address and address_field\n",
    "toDropMRS = ['nname', 'altemail', 'phone', 'job_id', 'joborder_status', 'status_html', 'fullname', 'recruiter_name',\n",
    "             'accman_name', 'name', 'source_notes', 'i9notes', 'h1b_entry_date', 'star', 'looking_status',\n",
    "             'recruiter_id2', 'recruiter_id3','source_id.1', 'status_name.1', 'address', 'address_field']\n",
    "for col in toDropMRS:\n",
    "    if(col in mrs.columns):\n",
    "        mrs = mrs.drop(col,1)\n",
    "\n",
    "mrs.columns"
   ]
  },
  {
   "cell_type": "code",
   "execution_count": 6,
   "metadata": {
    "collapsed": false
   },
   "outputs": [
    {
     "name": "stdout",
     "output_type": "stream",
     "text": [
      "1    15570\n",
      "0     5377\n",
      "Name: is_gmail, dtype: int64\n",
      "0    20902\n",
      "1       45\n",
      "Name: is_aol, dtype: int64\n",
      "0    15615\n",
      "1     5332\n",
      "Name: is_custom, dtype: int64\n"
     ]
    }
   ],
   "source": [
    "#Clean email\n",
    "#To Ryan: Should we try to extract the domain as an potential features? Are \"gmail\" users different \"aol\"\n",
    "\n",
    "#To Do\n",
    "mrs[\"is_gmail\"] = (1*(mrs[\"email\"].str.contains(\"@gmail\", na=False)))\n",
    "mrs[\"is_aol\"] = (1*(mrs[\"email\"].str.contains(\"@aol\", na=False)))\n",
    "mrs[\"is_custom\"] = (1*(~mrs[\"email\"].str.contains(\"@gmail|@aol\", na=False)))\n",
    "print(mrs[\"is_gmail\"].value_counts())\n",
    "print(mrs[\"is_aol\"].value_counts())\n",
    "print(mrs[\"is_custom\"].value_counts())\n",
    "\n",
    "\n",
    "#drop email in group later"
   ]
  },
  {
   "cell_type": "code",
   "execution_count": 7,
   "metadata": {
    "collapsed": false
   },
   "outputs": [
    {
     "data": {
      "text/plain": [
       "1    18354\n",
       "0     2593\n",
       "Name: is_male, dtype: int64"
      ]
     },
     "execution_count": 7,
     "metadata": {},
     "output_type": "execute_result"
    }
   ],
   "source": [
    "#Clean gender\n",
    "#To Ryan: Looks like all the candidates are men...is this the full sample?\n",
    "mrs[\"is_male\"] = (1*(mrs[\"gender\"] == \"Male\"))\n",
    "mrs.is_male.value_counts()\n",
    "\n",
    "#drop gender in group later"
   ]
  },
  {
   "cell_type": "code",
   "execution_count": 8,
   "metadata": {
    "collapsed": false
   },
   "outputs": [
    {
     "data": {
      "text/plain": [
       "0    19902\n",
       "1     1045\n",
       "Name: is_minority, dtype: int64"
      ]
     },
     "execution_count": 8,
     "metadata": {},
     "output_type": "execute_result"
    }
   ],
   "source": [
    "#Clean isMinority\n",
    "#To Ryan: What do these values mean again?\n",
    "mrs[\"is_minority\"] = (1*(mrs[\"minority\"] == \"on\"))\n",
    "mrs.is_minority.value_counts()\n",
    "\n",
    "#drop minority in group later"
   ]
  },
  {
   "cell_type": "code",
   "execution_count": 9,
   "metadata": {
    "collapsed": false
   },
   "outputs": [
    {
     "data": {
      "text/plain": [
       "0    15812\n",
       "1     5135\n",
       "Name: is_ivy, dtype: int64"
      ]
     },
     "execution_count": 9,
     "metadata": {},
     "output_type": "execute_result"
    }
   ],
   "source": [
    "#Clean isIvy\n",
    "#To Ryan: What do these values mean again?\n",
    "mrs[\"is_ivy\"] = (1*(mrs[\"ivy\"] == \"on\"))\n",
    "mrs.is_ivy.value_counts()\n",
    "\n",
    "#drop ivy in group later"
   ]
  },
  {
   "cell_type": "code",
   "execution_count": 75,
   "metadata": {
    "collapsed": true
   },
   "outputs": [],
   "source": [
    "#Clean recruiterId\n",
    "#Nothing more to do\n",
    "\n",
    "#candidates.recruiterId.value_counts()"
   ]
  },
  {
   "cell_type": "code",
   "execution_count": null,
   "metadata": {
    "collapsed": true
   },
   "outputs": [],
   "source": []
  },
  {
   "cell_type": "code",
   "execution_count": 76,
   "metadata": {
    "collapsed": true
   },
   "outputs": [],
   "source": [
    "#Clean candidateCreationDate\n",
    "#Nothing here to do\n",
    "\n",
    "#print(mrs.candidateCreationDate[0:10])"
   ]
  },
  {
   "cell_type": "code",
   "execution_count": 77,
   "metadata": {
    "collapsed": true
   },
   "outputs": [],
   "source": [
    "#Clean zip\n",
    "#Nothing to do here?\n",
    "\n",
    "#To Do"
   ]
  },
  {
   "cell_type": "code",
   "execution_count": 10,
   "metadata": {
    "collapsed": false
   },
   "outputs": [
    {
     "data": {
      "text/plain": [
       "1    13064\n",
       "0     7883\n",
       "Name: willingToRelocate, dtype: int64"
      ]
     },
     "execution_count": 10,
     "metadata": {},
     "output_type": "execute_result"
    }
   ],
   "source": [
    "#Clean isWillingRelocate\n",
    "#To Ryan: What do the \"-1\" mean?\n",
    "#mrs[\"is_ivy\"] = (1*(mrs[\"ivy\"] == \"on\"))\n",
    "#mrs.is_ivy.value_counts()\n",
    "mrs.willingToRelocate.value_counts()\n",
    "#candidates.isWillingRelocate.value_counts()"
   ]
  },
  {
   "cell_type": "code",
   "execution_count": 11,
   "metadata": {
    "collapsed": false
   },
   "outputs": [
    {
     "data": {
      "text/plain": [
       "5      16732\n",
       "7       1560\n",
       "8       1279\n",
       "6        406\n",
       "4        265\n",
       "303      263\n",
       "1        120\n",
       "3        101\n",
       "304       92\n",
       "9         66\n",
       "306       27\n",
       "305       20\n",
       "35        14\n",
       "12         1\n",
       "2          1\n",
       "Name: source_id, dtype: int64"
      ]
     },
     "execution_count": 11,
     "metadata": {},
     "output_type": "execute_result"
    }
   ],
   "source": [
    "#Clean sourceId\n",
    "#What is this feature?\n",
    "#Source where candidate originated from. Look in data for source names\n",
    "\n",
    "mrs.source_id.value_counts()"
   ]
  },
  {
   "cell_type": "code",
   "execution_count": 12,
   "metadata": {
    "collapsed": true
   },
   "outputs": [],
   "source": [
    "#Clean yearBeganExperience\n",
    "#Use the difference between when the candidate was inputted into the database and \"yearBeganExperience\"\n",
    "#Created \"yearsOfExp\"C\n",
    "nowYear = datetime.datetime.now().year\n",
    "mrs['yearsOfExp'] = nowYear-mrs['year_began']\n",
    "\n",
    "#drop year_began later"
   ]
  },
  {
   "cell_type": "code",
   "execution_count": 13,
   "metadata": {
    "collapsed": false
   },
   "outputs": [
    {
     "name": "stdout",
     "output_type": "stream",
     "text": [
      "Eligible(USC-GC)    11142\n",
      "H1B Visa             6799\n",
      "Unknown              1190\n",
      "Other                 861\n",
      "TN Visaa              650\n",
      "EAD                   294\n",
      "U.S. Citizen            2\n",
      "Name: i9, dtype: int64\n"
     ]
    },
    {
     "data": {
      "text/plain": [
       "1    11144\n",
       "0     9803\n",
       "Name: is_citizen, dtype: int64"
      ]
     },
     "execution_count": 13,
     "metadata": {},
     "output_type": "execute_result"
    }
   ],
   "source": [
    "#Clean i9\n",
    "#To Ryan: Should create dummies from this? Does USC-GC mean US Citizen?\n",
    "mrs[\"is_citizen\"] = (1*(mrs[\"i9\"].str.contains(\"Eligible|U.S. Citizen\", na=False)))\n",
    "\n",
    "print(mrs.i9.value_counts())\n",
    "mrs.is_citizen.value_counts()\n",
    "\n",
    "#drop i9 later\n"
   ]
  },
  {
   "cell_type": "code",
   "execution_count": 14,
   "metadata": {
    "collapsed": true
   },
   "outputs": [],
   "source": [
    "#Need to clean the bottom features\n",
    "\n",
    "#Create Dummies for Functional Category\n",
    "#Also the total functional categories\n",
    "\n",
    "mrs[['func1', 'func2', 'func3', 'func4', 'func5', 'func6', 'func7']] = mrs['functionalCat_id'].str.split(',', expand = True)\n",
    "dummies = pd.get_dummies(mrs[['func1', 'func2', 'func3', 'func4', 'func5', 'func6', 'func7']])\n",
    "dummies = dummies.groupby(dummies.columns.str.split(\"_\").str[1],axis=1).sum()\n",
    "dummies['total'] = dummies.sum(axis=1)\n",
    "dummies = dummies.rename(columns = lambda x : 'func_' + x)\n",
    "mrs = mrs.drop(['functionalCat_id', 'functionalCategory','func1', 'func2', 'func3', 'func4', 'func5', 'func6', 'func7'], axis = 1)\n",
    "mrs = pd.concat([mrs, dummies], axis=1, join='inner')\n",
    "mrs.columns\n",
    "\n",
    "#techCatName\n",
    "#techCatId\n",
    "mrs[['tech1', 'tech2', 'tech3', 'tech4', 'tech5', 'tech6', 'tech7', 'tech8']] = \\\n",
    "mrs['technicalCat_id'].str.split(',', expand = True)\n",
    "dummies = pd.get_dummies(mrs[['tech1', 'tech2', 'tech3', 'tech4', 'tech5', 'tech6', 'tech7', 'tech8']])\n",
    "dummies = dummies.groupby(dummies.columns.str.split(\"_\").str[1],axis=1).sum()\n",
    "dummies['total'] = dummies.sum(axis=1)\n",
    "dummies = dummies.rename(columns = lambda x : 'tech_' + x)\n",
    "mrs = mrs.drop(['technicalCat_id', 'technicalCategory','tech1', 'tech2', 'tech3', 'tech4', 'tech5', 'tech6', 'tech7', 'tech8'], axis = 1)\n",
    "mrs = pd.concat([mrs, dummies], axis=1, join='inner')\n",
    "mrs.columns\n",
    "\n",
    "\n",
    "#mainCatName\n",
    "#mainCatId\n",
    "\n",
    "mrs[['main1', 'main2', 'main3', 'main4']] = mrs['mainCat_id'].str.split(',', expand = True)\n",
    "dummies = pd.get_dummies(mrs[['main1', 'main2', 'main3', 'main4']])\n",
    "dummies = dummies.groupby(dummies.columns.str.split(\"_\").str[1],axis=1).sum()\n",
    "dummies['total'] = dummies.sum(axis=1)\n",
    "dummies = dummies.rename(columns = lambda x : 'main_' + x)\n",
    "mrs = mrs.drop(['mainCat_id', 'mainCategory','main1', 'main2', 'main3', 'main4'], axis = 1)\n",
    "mrs = pd.concat([mrs, dummies], axis=1, join='inner')\n",
    "\n",
    "\n",
    "#categorys = ['functionalCategory', 'functionalCat_id', 'technicalCategory', 'technicalCat_id',\n",
    "#       'mainCategory', 'mainCat_id' ]\n",
    "#for col in categorys:\n",
    "#    if(col in mrs.columns):\n",
    "#        mrs = mrs.drop(col,1)\n",
    "#These all formatted as such value, [another value, another value]\n",
    "#For both Ids and Name. Have to decide how we're going to use it"
   ]
  },
  {
   "cell_type": "code",
   "execution_count": 15,
   "metadata": {
    "collapsed": true
   },
   "outputs": [],
   "source": [
    "postProcessDrop = ['i9', 'year_began', 'ivy', 'minority', 'gender', 'email',\n",
    "                   'clarity', 'personability', 'status_name']\n",
    "\n",
    "\n",
    "strings = ['status_name', 'title', 'date_submitted', 'fname', 'lname', 'sourceName', 'gender', 'date_created', 'i9',\n",
    "          'email', 'address', 'minority', 'ivy','address_field','clarity','personability','zip']\n",
    "\n",
    "for col in postProcessDrop:\n",
    "    if(col in mrs.columns):\n",
    "        mrs = mrs.drop(col,1)\n",
    "        \n",
    "for col in strings:\n",
    "    if(col in mrs.columns):\n",
    "        mrs = mrs.drop(col,1)\n",
    "allCol=mrs.columns\n"
   ]
  },
  {
   "cell_type": "code",
   "execution_count": 16,
   "metadata": {
    "collapsed": false
   },
   "outputs": [
    {
     "data": {
      "text/plain": [
       "{'candidate_id': 0,\n",
       " 'client_id': 0,\n",
       " 'consulting': 0,\n",
       " 'func_1': 0,\n",
       " 'func_10': 0,\n",
       " 'func_11': 0,\n",
       " 'func_12': 0,\n",
       " 'func_13': 0,\n",
       " 'func_14': 0,\n",
       " 'func_15': 0,\n",
       " 'func_16': 0,\n",
       " 'func_17': 0,\n",
       " 'func_18': 0,\n",
       " 'func_19': 0,\n",
       " 'func_20': 0,\n",
       " 'func_21': 0,\n",
       " 'func_22': 0,\n",
       " 'func_23': 0,\n",
       " 'func_24': 0,\n",
       " 'func_25': 0,\n",
       " 'func_26': 0,\n",
       " 'func_27': 0,\n",
       " 'func_28': 0,\n",
       " 'func_29': 0,\n",
       " 'func_3': 0,\n",
       " 'func_30': 0,\n",
       " 'func_31': 0,\n",
       " 'func_32': 0,\n",
       " 'func_33': 0,\n",
       " 'func_34': 0,\n",
       " 'func_35': 0,\n",
       " 'func_36': 0,\n",
       " 'func_37': 0,\n",
       " 'func_38': 0,\n",
       " 'func_39': 0,\n",
       " 'func_4': 0,\n",
       " 'func_41': 0,\n",
       " 'func_42': 0,\n",
       " 'func_45': 0,\n",
       " 'func_49': 0,\n",
       " 'func_5': 0,\n",
       " 'func_52': 0,\n",
       " 'func_54': 0,\n",
       " 'func_59': 0,\n",
       " 'func_6': 0,\n",
       " 'func_63': 0,\n",
       " 'func_64': 0,\n",
       " 'func_65': 0,\n",
       " 'func_66': 0,\n",
       " 'func_67': 0,\n",
       " 'func_68': 0,\n",
       " 'func_7': 0,\n",
       " 'func_8': 0,\n",
       " 'func_9': 0,\n",
       " 'func_total': 0,\n",
       " 'in_process': 0,\n",
       " 'is_aol': 0,\n",
       " 'is_citizen': 0,\n",
       " 'is_custom': 0,\n",
       " 'is_gmail': 0,\n",
       " 'is_ivy': 0,\n",
       " 'is_male': 0,\n",
       " 'is_minority': 0,\n",
       " 'is_placed': 0,\n",
       " 'is_rockstar': 0,\n",
       " 'main_1': 0,\n",
       " 'main_16': 0,\n",
       " 'main_2': 0,\n",
       " 'main_3': 0,\n",
       " 'main_4': 0,\n",
       " 'main_5': 0,\n",
       " 'main_total': 0,\n",
       " 'permanent': 0,\n",
       " 'recruiter_id': 0,\n",
       " 'source_id': 0,\n",
       " 'status_id': 0,\n",
       " 'tech_1': 0,\n",
       " 'tech_10': 0,\n",
       " 'tech_11': 0,\n",
       " 'tech_12': 0,\n",
       " 'tech_13': 0,\n",
       " 'tech_14': 0,\n",
       " 'tech_15': 0,\n",
       " 'tech_17': 0,\n",
       " 'tech_18': 0,\n",
       " 'tech_2': 0,\n",
       " 'tech_20': 0,\n",
       " 'tech_22': 0,\n",
       " 'tech_23': 0,\n",
       " 'tech_24': 0,\n",
       " 'tech_28': 0,\n",
       " 'tech_3': 0,\n",
       " 'tech_30': 0,\n",
       " 'tech_34': 0,\n",
       " 'tech_36': 0,\n",
       " 'tech_37': 0,\n",
       " 'tech_40': 0,\n",
       " 'tech_45': 0,\n",
       " 'tech_46': 0,\n",
       " 'tech_47': 0,\n",
       " 'tech_48': 0,\n",
       " 'tech_5': 0,\n",
       " 'tech_51': 0,\n",
       " 'tech_52': 0,\n",
       " 'tech_53': 0,\n",
       " 'tech_54': 0,\n",
       " 'tech_55': 0,\n",
       " 'tech_56': 0,\n",
       " 'tech_57': 0,\n",
       " 'tech_58': 0,\n",
       " 'tech_7': 0,\n",
       " 'tech_8': 0,\n",
       " 'tech_9': 0,\n",
       " 'tech_total': 0,\n",
       " 'willingToRelocate': 0,\n",
       " 'yearsOfExp': 0}"
      ]
     },
     "execution_count": 16,
     "metadata": {},
     "output_type": "execute_result"
    }
   ],
   "source": [
    "mrs['yearsOfExp'].fillna(value=0, inplace=True)\n",
    "Possible_values = {col: mrs[col].isnull().sum() for col in mrs.columns}\n",
    "Possible_values"
   ]
  },
  {
   "cell_type": "code",
   "execution_count": 18,
   "metadata": {
    "collapsed": false
   },
   "outputs": [
    {
     "name": "stdout",
     "output_type": "stream",
     "text": [
      "Train dataset info:\n",
      " 0    14527\n",
      "1      136\n",
      "Name: is_placed, dtype: int64\n",
      "Test dataset info:\n",
      " 0    6221\n",
      "1      63\n",
      "Name: is_placed, dtype: int64\n"
     ]
    }
   ],
   "source": [
    "#Train and Test data split\n",
    "train_split = 0.7\n",
    "train = mrs.sample(frac=train_split)\n",
    "print (\"Train dataset info:\\n\", train.is_placed.value_counts())\n",
    "test = mrs.loc[~mrs.index.isin(train.index)]\n",
    "print (\"Test dataset info:\\n\", test.is_placed.value_counts())\n",
    "\n",
    "train.to_csv(\"cleaned_mostRecStat_train.csv\",index=False)\n",
    "test.to_csv(\"cleaned_mostRecStat_test.csv\",index=False)"
   ]
  },
  {
   "cell_type": "code",
   "execution_count": 59,
   "metadata": {
    "collapsed": false
   },
   "outputs": [
    {
     "data": {
      "text/plain": [
       "Index(['is_placed', 'status_id', 'is_rockstar', 'consulting', 'permanent',\n",
       "       'willingToRelocate', 'is_gmail', 'is_aol', 'is_custom', 'is_male',\n",
       "       ...\n",
       "       'tech_8', 'tech_9', 'tech_total', 'main_1', 'main_16', 'main_2',\n",
       "       'main_3', 'main_4', 'main_5', 'main_total'],\n",
       "      dtype='object', length=111)"
      ]
     },
     "execution_count": 59,
     "metadata": {},
     "output_type": "execute_result"
    }
   ],
   "source": [
    "#further items to drop\n",
    "\n",
    "toDrop = ['client_id', 'candidate_id', 'recruiter_id', 'source_id', 'in_process']\n",
    "for col in toDrop:\n",
    "    if(col in mrs.columns):\n",
    "        mrs = mrs.drop(col,1)\n",
    "\n",
    "mrs.columns"
   ]
  },
  {
   "cell_type": "code",
   "execution_count": 76,
   "metadata": {
    "collapsed": false
   },
   "outputs": [],
   "source": [
    "y = mrs[['is_placed']]\n",
    "#X = mrs.drop(['is_placed'], axis=1)\n",
    "X = mrs[['is_rockstar', 'is_male', 'yearsOfExp', 'tech_total', 'main_total', 'func_total']]\n",
    "pca = decomposition.PCA(n_components=3)\n",
    "pca.fit(X)\n",
    "X_pca = pca.transform(X)"
   ]
  },
  {
   "cell_type": "code",
   "execution_count": 87,
   "metadata": {
    "collapsed": false
   },
   "outputs": [
    {
     "name": "stdout",
     "output_type": "stream",
     "text": [
      "Original shape: (20947, 6)\n",
      "Reduced shape: (20947, 3)\n",
      "PCA component shape: (3, 6)\n",
      "PCA components:\n",
      "[[ -2.32622222e-06   1.06743766e-06  -1.00000000e+00  -7.86446003e-06\n",
      "   -7.41784228e-08  -4.92848546e-06]\n",
      " [  9.47791776e-04   1.93467281e-02  -8.50682723e-06   9.87996085e-01\n",
      "    5.88148213e-03   1.53146822e-01]\n",
      " [  2.52374147e-01   3.24890867e-02  -4.08996567e-06  -1.49059115e-01\n",
      "    1.38377237e-02   9.55427468e-01]]\n"
     ]
    },
    {
     "data": {
      "image/png": "[encoded data removed]",
      "text/plain": [
       "<matplotlib.figure.Figure at 0x121608ac8>"
      ]
     },
     "metadata": {},
     "output_type": "display_data"
    },
    {
     "data": {
      "image/png": "[encoded data removed]",
      "text/plain": [
       "<matplotlib.figure.Figure at 0x122449438>"
      ]
     },
     "metadata": {},
     "output_type": "display_data"
    }
   ],
   "source": [
    "print(\"Original shape: {}\".format(str(X.shape))) \n",
    "print(\"Reduced shape: {}\".format(str(X_pca.shape)))\n",
    "\n",
    "print(\"PCA component shape: {}\".format(pca.components_.shape))\n",
    "print(\"PCA components:\\n{}\".format(pca.components_))\n",
    "\n",
    "\n",
    "plt.matshow(pca.components_, cmap='viridis')\n",
    "plt.yticks([0, 1, 2], [\"First component\", \"Second component\", \"Third component\"])\n",
    "plt.colorbar()\n",
    "plt.xticks(range(len(list(X))),\n",
    "           list(X), rotation=60, ha='left')\n",
    "plt.xlabel(\"Feature\")\n",
    "plt.ylabel(\"Principal components\")\n",
    "plt.show()\n",
    "\n",
    "fig = plt.figure()\n",
    "ax1 = fig.add_subplot(111)\n",
    "\n",
    "ax1.scatter(X_pca[:,0], y, c='b', marker=\"s\", label='first')\n",
    "ax1.scatter(X_pca[:,1], y, c='r', marker=\"o\", label='second')\n",
    "plt.legend(loc='upper right');\n",
    "plt.show()\n",
    "\n",
    "#plt.figure(figsize=(8, 8))\n",
    "#mglearn.discrete_scatter(X_pca[:,0], X_pca[:,1], y)\n",
    "#plt.legend(cancer.target_names, loc=\"best\")\n",
    "#plt.gca().set_aspect(\"equal\")\n",
    "#plt.xlabel(\"First principal component\")\n",
    "#plt.ylabel(\"Second principal component\")"
   ]
  },
  {
   "cell_type": "code",
   "execution_count": 24,
   "metadata": {
    "collapsed": false
   },
   "outputs": [
    {
     "name": "stdout",
     "output_type": "stream",
     "text": [
      "[  9.99980054e-01   1.69014702e-05   5.65282550e-07]\n"
     ]
    }
   ],
   "source": [
    "print(pca.explained_variance_ratio_) "
   ]
  },
  {
   "cell_type": "code",
   "execution_count": 26,
   "metadata": {
    "collapsed": false
   },
   "outputs": [
    {
     "name": "stdout",
     "output_type": "stream",
     "text": [
      "[  1.34565873e+06   2.27440645e+01   7.60692570e-01]\n"
     ]
    }
   ],
   "source": [
    "print(pca.explained_variance_)  "
   ]
  },
  {
   "cell_type": "code",
   "execution_count": 83,
   "metadata": {
    "collapsed": false
   },
   "outputs": [
    {
     "name": "stdout",
     "output_type": "stream",
     "text": [
      "FA components:\n",
      "[[ -2.69847740e-03   1.23825489e-03  -1.16002488e+03  -9.12297512e-03\n",
      "   -8.60489736e-05  -5.71717088e-03]\n",
      " [  1.20120440e-02   2.44779054e-02  -1.20842555e-05   3.60206979e-01\n",
      "    1.26017900e-02   2.12288183e-01]\n",
      " [  3.27173391e-02  -4.51586192e-03  -3.50802526e-07  -1.25443671e-01\n",
      "    8.74048994e-03   5.86433381e-02]]\n"
     ]
    },
    {
     "data": {
      "image/png": "[encoded data removed]",
      "text/plain": [
       "<matplotlib.figure.Figure at 0x121129f98>"
      ]
     },
     "metadata": {},
     "output_type": "display_data"
    }
   ],
   "source": [
    "fa = decomposition.FactorAnalysis(n_components=3)\n",
    "fa.fit(X)\n",
    "print(\"FA components:\\n{}\".format(fa.components_))\n",
    "\n",
    "\n",
    "plt.matshow(fa.components_, cmap='viridis')\n",
    "plt.yticks([0, 1, 2], [\"First component\", \"Second component\", \"Third component\"])\n",
    "plt.colorbar()\n",
    "plt.xticks(range(len(list(X))),\n",
    "           list(X), rotation=60, ha='left')\n",
    "plt.xlabel(\"Feature\")\n",
    "plt.ylabel(\"Principal components\")\n",
    "plt.show()"
   ]
  },
  {
   "cell_type": "code",
   "execution_count": 71,
   "metadata": {
    "collapsed": false
   },
   "outputs": [],
   "source": []
  },
  {
   "cell_type": "code",
   "execution_count": null,
   "metadata": {
    "collapsed": true
   },
   "outputs": [],
   "source": []
  }
 ],
 "metadata": {
  "kernelspec": {
   "display_name": "Python 3",
   "language": "python",
   "name": "python3"
  },
  "language_info": {
   "codemirror_mode": {
    "name": "ipython",
    "version": 3
   },
   "file_extension": ".py",
   "mimetype": "text/x-python",
   "name": "python",
   "nbconvert_exporter": "python",
   "pygments_lexer": "ipython3",
   "version": "3.6.0"
  }
 },
 "nbformat": 4,
 "nbformat_minor": 2
}
