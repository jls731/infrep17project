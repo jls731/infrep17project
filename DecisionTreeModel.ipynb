{
 "cells": [
  {
   "cell_type": "code",
   "execution_count": 1,
   "metadata": {
    "collapsed": true
   },
   "outputs": [],
   "source": [
    "import pandas as pd\n",
    "import numpy as np\n",
    "import scipy as sp\n",
    "import matplotlib.pyplot as plt\n",
    "import math\n",
    "import seaborn as sns\n",
    "%matplotlib inline\n",
    "\n",
    "pd.set_option('display.float_format', lambda x: '%.3f' % x)"
   ]
  },
  {
   "cell_type": "code",
   "execution_count": 2,
   "metadata": {},
   "outputs": [
    {
     "name": "stdout",
     "output_type": "stream",
     "text": [
      "Features are :  Index(['in_process', 'client_id', 'is_rockstar', 'consulting', 'permanent',\n",
      "       'source_id', 'willingToRelocate', 'is_gmail', 'is_aol', 'is_custom',\n",
      "       ...\n",
      "       'tech_8', 'tech_9', 'tech_total', 'main_1', 'main_16', 'main_2',\n",
      "       'main_3', 'main_4', 'main_5', 'main_total'],\n",
      "      dtype='object', length=112)\n",
      "Dataset Target count: \n",
      " 0    14529\n",
      "1      134\n",
      "Name: is_placed, dtype: int64\n"
     ]
    }
   ],
   "source": [
    "#Load Dataset and process it\n",
    "train = pd.read_csv('data/cleaned_mostRecStat_train.csv',header=0,encoding='iso-8859-1')\n",
    "train_y = train['is_placed']\n",
    "train = train.drop(\"is_placed\",1)\n",
    "\n",
    "\n",
    "test = pd.read_csv('data/cleaned_mostRecStat_test.csv',header=0,encoding='iso-8859-1')\n",
    "test_y = test['is_placed']\n",
    "test = test.drop(\"is_placed\",1)\n",
    "\n",
    "print (\"Features are : \", train.columns)\n",
    "train = train.fillna(0.0)\n",
    "test = test.fillna(0.0)\n",
    "print (\"Dataset Target count: \\n\", train_y.value_counts())"
   ]
  },
  {
   "cell_type": "code",
   "execution_count": 3,
   "metadata": {
    "collapsed": true
   },
   "outputs": [],
   "source": [
    "#Modeling is done here\n",
    "#Import relevant module for modelling.\n",
    "from sklearn.tree import DecisionTreeClassifier\n",
    "from sklearn.tree import export_graphviz\n",
    "from sklearn.metrics import confusion_matrix,roc_auc_score\n",
    "\n",
    "def testTrees(X_train,y_train,X_test,y_test,dep,leaf):\n",
    "    clf = DecisionTreeClassifier(criterion='entropy',min_samples_leaf=leaf,max_depth=dep)\n",
    "    clf = clf.fit(X_train,y_train)\n",
    "    cm = confusion_matrix(clf.predict(X_test),y_test)\n",
    "    accuracy = (cm[0][0]+cm[1][1])/float(len(X_test))\n",
    "    misclass_rate = 1 - accuracy\n",
    "    #print \"Depth: %d, Leaf: %d, Misclassification Rate: %f, Accuracy: %f\" %(dep,leaf,misclass_rate,accuracy)\n",
    "    return roc_auc_score(y_test,clf.predict_proba(X_test)[:,1]), misclass_rate\n"
   ]
  },
  {
   "cell_type": "code",
   "execution_count": 4,
   "metadata": {
    "collapsed": true
   },
   "outputs": [],
   "source": [
    "depths=np.arange(1,6,1)\n",
    "leaves=np.arange(1,100,1)\n",
    "target = []\n",
    "#Run all of the options\n",
    "run=1\n",
    "if (run==1):\n",
    "    #Initialize dictionary of results\n",
    "    res=dict()\n",
    "    res2=dict()\n",
    "    for d in depths:\n",
    "        res[d]=list()\n",
    "        res2[d]=list()\n",
    "\n",
    "    #Now train and get results for each option\n",
    "    for d in depths:\n",
    "        for l in leaves:\n",
    "            roc,mis = testTrees(train,train_y,test,test_y,d,l)\n",
    "            res[d].append(roc)\n",
    "            res2[d].append(mis)"
   ]
  },
  {
   "cell_type": "code",
   "execution_count": 5,
   "metadata": {},
   "outputs": [
    {
     "data": {
      "text/plain": [
       "<matplotlib.text.Text at 0x246a8d567b8>"
      ]
     },
     "execution_count": 5,
     "metadata": {},
     "output_type": "execute_result"
    },
    {
     "data": {
      "image/png": "[encoded data removed]",
      "text/plain": [
       "<matplotlib.figure.Figure at 0x246a87fab38>"
      ]
     },
     "metadata": {},
     "output_type": "display_data"
    }
   ],
   "source": [
    "#Plot Result           \n",
    "fig = plt.figure()\n",
    "ax=fig.add_subplot(111)\n",
    "for i in np.arange(0,len(depths), 5):\n",
    "    plt.plot(leaves,res[depths[i]],'b-',label='Depth={}'.format(depths[i]))\n",
    "    plt.plot(leaves,res[depths[i+1]],'r-',label='Depth={}'.format(depths[i+1]))\n",
    "    plt.plot(leaves,res[depths[i+2]],'y-',label='Depth={}'.format(depths[i+2]))\n",
    "    plt.plot(leaves,res[depths[i+3]],'g-',label='Depth={}'.format(depths[i+3]))\n",
    "    plt.plot(leaves,res[depths[i+4]],'k-',label='Depth={}'.format(depths[i+4]))\n",
    "plt.legend(loc=4)\n",
    "ax.set_xlabel('Min Leaf Size')\n",
    "ax.set_ylabel('Test Set AUC')\n",
    "plt.title('Holdout AUC by Hyperparameters')"
   ]
  },
  {
   "cell_type": "code",
   "execution_count": 6,
   "metadata": {},
   "outputs": [
    {
     "name": "stdout",
     "output_type": "stream",
     "text": [
      "Smallest error rate in depth 1 is 0.010344, leaf size is 1\n",
      "Smallest error rate in depth 2 is 0.010344, leaf size is 1\n",
      "Smallest error rate in depth 3 is 0.010344, leaf size is 1\n",
      "Smallest error rate in depth 4 is 0.010344, leaf size is 1\n",
      "Smallest error rate in depth 5 is 0.010344, leaf size is 1\n"
     ]
    }
   ],
   "source": [
    "erate = 999\n",
    "dep = 0\n",
    "leaf_size = 0\n",
    "for d in depths:\n",
    "    print (\"Smallest error rate in depth %d is %f, leaf size is %d\"%(d,min(res2[d]),leaves[np.argmin(res2[d])]))\n",
    "    if min(res2[d]) < erate:\n",
    "        erate = min(res2[d])\n",
    "        dep = d\n",
    "        leaf_size = leaves[np.argmin(res2[d])]"
   ]
  },
  {
   "cell_type": "code",
   "execution_count": 16,
   "metadata": {
    "scrolled": false
   },
   "outputs": [
    {
     "name": "stdout",
     "output_type": "stream",
     "text": [
      "Optimal Depth: 1, Leaf Size: 1\n",
      "\n",
      "Top 20 feature importance\n",
      "\n",
      "is_rockstar 0.214787214939\n",
      "source_id 0.182106012464\n",
      "in_process 0.180814481446\n",
      "client_id 0.088279556858\n",
      "tech_total 0.0775930952688\n",
      "func_31 0.0711728386951\n",
      "is_citizen 0.0651393308585\n",
      "func_33 0.04770652585\n",
      "tech_22 0.0421321983094\n",
      "main_1 0.0302687453115\n",
      "func_42 0.0\n",
      "func_49 0.0\n",
      "func_24 0.0\n",
      "func_25 0.0\n",
      "func_26 0.0\n",
      "func_27 0.0\n",
      "func_28 0.0\n",
      "func_29 0.0\n",
      "func_3 0.0\n",
      "func_30 0.0\n"
     ]
    },
    {
     "data": {
      "text/plain": [
       "<matplotlib.legend.Legend at 0x246a9421cf8>"
      ]
     },
     "execution_count": 16,
     "metadata": {},
     "output_type": "execute_result"
    },
    {
     "data": {
      "image/png": "[encoded data removed]",
      "text/plain": [
       "<matplotlib.figure.Figure at 0x246a9589630>"
      ]
     },
     "metadata": {},
     "output_type": "display_data"
    },
    {
     "data": {
      "image/png": "[encoded data removed]",
      "text/plain": [
       "<matplotlib.figure.Figure at 0x246a9596780>"
      ]
     },
     "metadata": {},
     "output_type": "display_data"
    }
   ],
   "source": [
    "\n",
    "target_names = ['Not','Placed']\n",
    "print (\"Optimal Depth: %d, Leaf Size: %d\"%(dep,leaf_size))\n",
    "clf = DecisionTreeClassifier(criterion='entropy',min_samples_leaf=leaf_size,max_depth=d)\n",
    "clf = clf.fit(train,train_y)\n",
    "cm = confusion_matrix(clf.predict(test),test_y)\n",
    "cm = pd.DataFrame(cm, columns=target_names, index=target_names)\n",
    "sns.heatmap(cm, annot=True, fmt='g')\n",
    "plt.xlabel('true label')\n",
    "plt.ylabel('predicted label');\n",
    "plt.title('Confusion Matrix')\n",
    "\n",
    "#Feature analysis\n",
    "dt_features = clf.feature_importances_\n",
    "cols = train.columns.values\n",
    "fig, ax = plt.subplots()\n",
    "width=0.5\n",
    "\n",
    "sorted_index= np.argsort(dt_features)\n",
    "topn = list(sorted_index[-20:])\n",
    "topn.reverse()\n",
    "print (\"\\nTop 20 feature importance\\n\")\n",
    "for i in topn:\n",
    "    print (cols[i], dt_features[i])\n",
    "    \n",
    "ax.bar(np.arange(len(cols[topn])), dt_features[topn], width, color='r', label='DT')\n",
    "ax.set_xticks(np.arange(len(cols[topn])))\n",
    "ax.set_xticklabels(cols[topn], rotation=90)\n",
    "plt.title('Feature Importance from DT')\n",
    "ax.set_ylabel('Normalized Gini Importance')\n",
    "plt.legend(loc=1)"
   ]
  },
  {
   "cell_type": "code",
   "execution_count": 17,
   "metadata": {
    "collapsed": true
   },
   "outputs": [],
   "source": [
    "from sklearn import tree\n",
    "tree.export_graphviz(clf, out_file='tree.dot')  "
   ]
  },
  {
   "cell_type": "code",
   "execution_count": 18,
   "metadata": {},
   "outputs": [
    {
     "name": "stdout",
     "output_type": "stream",
     "text": [
      "         Not  Placed\n",
      "Not     6218      64\n",
      "Placed     1       1\n"
     ]
    }
   ],
   "source": [
    "print (cm)\n"
   ]
  },
  {
   "cell_type": "code",
   "execution_count": null,
   "metadata": {
    "collapsed": true
   },
   "outputs": [],
   "source": []
  }
 ],
 "metadata": {
  "kernelspec": {
   "display_name": "Python 3",
   "language": "python",
   "name": "python3"
  },
  "language_info": {
   "codemirror_mode": {
    "name": "ipython",
    "version": 3
   },
   "file_extension": ".py",
   "mimetype": "text/x-python",
   "name": "python",
   "nbconvert_exporter": "python",
   "pygments_lexer": "ipython3",
   "version": "3.6.2"
  }
 },
 "nbformat": 4,
 "nbformat_minor": 2
}
