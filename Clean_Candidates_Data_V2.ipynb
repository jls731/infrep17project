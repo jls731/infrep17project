{
 "cells": [
  {
   "cell_type": "code",
   "execution_count": 1,
   "metadata": {
    "collapsed": true
   },
   "outputs": [],
   "source": [
    "#Filename: Clean_Candidates_Data.ipynb\n",
    "#Description: Load in candidates.csv and set up for analysis"
   ]
  },
  {
   "cell_type": "code",
   "execution_count": 2,
   "metadata": {
    "collapsed": true
   },
   "outputs": [],
   "source": [
    "#import necessary packages\n",
    "import numpy as np\n",
    "import pandas as pd\n",
    "import datetime"
   ]
  },
  {
   "cell_type": "code",
   "execution_count": 91,
   "metadata": {
    "collapsed": true
   },
   "outputs": [],
   "source": [
    "#load data\n",
    "\n",
    "#Candidate Data\n",
    "#candidates = pd.read_csv(\"candidates.csv\")\n",
    "mrs = pd.read_csv(\"mostRecentStatus.csv\")"
   ]
  },
  {
   "cell_type": "code",
   "execution_count": 4,
   "metadata": {
    "collapsed": false
   },
   "outputs": [
    {
     "data": {
      "text/plain": [
       "Index(['is_placed', 'in_process', 'status_name', 'job_id', 'title',\n",
       "       'joborder_status', 'client_id', 'name', 'status_id', 'date_submitted',\n",
       "       'is_rockstar', 'status_name.1', 'status_html', 'candidate_id', 'fname',\n",
       "       'lname', 'nname', 'gender', 'minority', 'ivy', 'recruiter_id',\n",
       "       'date_created', 'email', 'altemail', 'consulting', 'permanent', 'phone',\n",
       "       'address', 'address_field', 'zip', 'source_id', 'source_notes',\n",
       "       'clarity', 'personability', 'year_began', 'i9', 'i9notes',\n",
       "       'h1b_entry_date', 'star', 'looking_status', 'recruiter_id2',\n",
       "       'recruiter_id3', 'fullname', 'recruiter_name', 'accman_name',\n",
       "       'willingToRelocate', 'source_id.1', 'sourceName', 'functionalCategory',\n",
       "       'functionalCat_id', 'technicalCategory', 'technicalCat_id',\n",
       "       'mainCategory', 'mainCat_id'],\n",
       "      dtype='object')"
      ]
     },
     "execution_count": 4,
     "metadata": {},
     "output_type": "execute_result"
    }
   ],
   "source": [
    "mrs.columns"
   ]
  },
  {
   "cell_type": "code",
   "execution_count": 5,
   "metadata": {
    "collapsed": false
   },
   "outputs": [
    {
     "data": {
      "text/plain": [
       "Index(['is_placed', 'in_process', 'status_name', 'title', 'client_id',\n",
       "       'status_id', 'date_submitted', 'is_rockstar', 'candidate_id', 'fname',\n",
       "       'lname', 'gender', 'minority', 'ivy', 'recruiter_id', 'date_created',\n",
       "       'email', 'consulting', 'permanent', 'zip', 'source_id', 'clarity',\n",
       "       'personability', 'year_began', 'i9', 'willingToRelocate', 'sourceName',\n",
       "       'functionalCategory', 'functionalCat_id', 'technicalCategory',\n",
       "       'technicalCat_id', 'mainCategory', 'mainCat_id'],\n",
       "      dtype='object')"
      ]
     },
     "execution_count": 5,
     "metadata": {},
     "output_type": "execute_result"
    }
   ],
   "source": [
    "#drop variables that don't appear relevant\n",
    "# \"middleName\": mostly null\n",
    "# \"nickName\": mostly null\n",
    "# \"linkedInURL\": mostly null\n",
    "# \"address\": won't be using candidate address\n",
    "# \"sourceNotes: mostly null\n",
    "'''\n",
    "toDrop = ['middleName', 'nickName', 'linkedInUrl', 'address', 'sourceNotes']\n",
    "candidates = candidates.drop(toDrop, axis = 1)\n",
    "'''\n",
    "#Preprocessing drop\n",
    "#Merge address and address_field\n",
    "toDropMRS = ['nname', 'altemail', 'phone', 'job_id', 'joborder_status', 'status_html', 'fullname', 'recruiter_name',\n",
    "             'accman_name', 'name', 'source_notes', 'i9notes', 'h1b_entry_date', 'star', 'looking_status',\n",
    "             'recruiter_id2', 'recruiter_id3','source_id.1', 'status_name.1', 'address', 'address_field']\n",
    "for col in toDropMRS:\n",
    "    if(col in mrs.columns):\n",
    "        mrs = mrs.drop(col,1)\n",
    "\n",
    "mrs.columns"
   ]
  },
  {
   "cell_type": "code",
   "execution_count": 6,
   "metadata": {
    "collapsed": false
   },
   "outputs": [
    {
     "name": "stdout",
     "output_type": "stream",
     "text": [
      "1    15570\n",
      "0     5377\n",
      "Name: is_gmail, dtype: int64\n",
      "0    20902\n",
      "1       45\n",
      "Name: is_aol, dtype: int64\n",
      "0    15615\n",
      "1     5332\n",
      "Name: is_custom, dtype: int64\n"
     ]
    }
   ],
   "source": [
    "#Clean email\n",
    "#To Ryan: Should we try to extract the domain as an potential features? Are \"gmail\" users different \"aol\"\n",
    "\n",
    "#To Do\n",
    "mrs[\"is_gmail\"] = (1*(mrs[\"email\"].str.contains(\"@gmail\", na=False)))\n",
    "mrs[\"is_aol\"] = (1*(mrs[\"email\"].str.contains(\"@aol\", na=False)))\n",
    "mrs[\"is_custom\"] = (1*(~mrs[\"email\"].str.contains(\"@gmail|@aol\", na=False)))\n",
    "print(mrs[\"is_gmail\"].value_counts())\n",
    "print(mrs[\"is_aol\"].value_counts())\n",
    "print(mrs[\"is_custom\"].value_counts())\n",
    "\n",
    "\n",
    "#drop email in group later"
   ]
  },
  {
   "cell_type": "code",
   "execution_count": 7,
   "metadata": {
    "collapsed": false
   },
   "outputs": [
    {
     "data": {
      "text/plain": [
       "1    18354\n",
       "0     2593\n",
       "Name: is_male, dtype: int64"
      ]
     },
     "execution_count": 7,
     "metadata": {},
     "output_type": "execute_result"
    }
   ],
   "source": [
    "#Clean gender\n",
    "#To Ryan: Looks like all the candidates are men...is this the full sample?\n",
    "mrs[\"is_male\"] = (1*(mrs[\"gender\"] == \"Male\"))\n",
    "mrs.is_male.value_counts()\n",
    "\n",
    "#drop gender in group later"
   ]
  },
  {
   "cell_type": "code",
   "execution_count": 8,
   "metadata": {
    "collapsed": false
   },
   "outputs": [
    {
     "data": {
      "text/plain": [
       "0    19902\n",
       "1     1045\n",
       "Name: is_minority, dtype: int64"
      ]
     },
     "execution_count": 8,
     "metadata": {},
     "output_type": "execute_result"
    }
   ],
   "source": [
    "#Clean isMinority\n",
    "#To Ryan: What do these values mean again?\n",
    "mrs[\"is_minority\"] = (1*(mrs[\"minority\"] == \"on\"))\n",
    "mrs.is_minority.value_counts()\n",
    "\n",
    "#drop minority in group later"
   ]
  },
  {
   "cell_type": "code",
   "execution_count": 9,
   "metadata": {
    "collapsed": false
   },
   "outputs": [
    {
     "data": {
      "text/plain": [
       "0    15812\n",
       "1     5135\n",
       "Name: is_ivy, dtype: int64"
      ]
     },
     "execution_count": 9,
     "metadata": {},
     "output_type": "execute_result"
    }
   ],
   "source": [
    "#Clean isIvy\n",
    "#To Ryan: What do these values mean again?\n",
    "mrs[\"is_ivy\"] = (1*(mrs[\"ivy\"] == \"on\"))\n",
    "mrs.is_ivy.value_counts()\n",
    "\n",
    "#drop ivy in group later"
   ]
  },
  {
   "cell_type": "code",
   "execution_count": 75,
   "metadata": {
    "collapsed": true
   },
   "outputs": [],
   "source": [
    "#Clean recruiterId\n",
    "#Nothing more to do\n",
    "\n",
    "#candidates.recruiterId.value_counts()"
   ]
  },
  {
   "cell_type": "code",
   "execution_count": null,
   "metadata": {
    "collapsed": true
   },
   "outputs": [],
   "source": []
  },
  {
   "cell_type": "code",
   "execution_count": 76,
   "metadata": {
    "collapsed": true
   },
   "outputs": [],
   "source": [
    "#Clean candidateCreationDate\n",
    "#Nothing here to do\n",
    "\n",
    "#print(mrs.candidateCreationDate[0:10])"
   ]
  },
  {
   "cell_type": "code",
   "execution_count": 77,
   "metadata": {
    "collapsed": true
   },
   "outputs": [],
   "source": [
    "#Clean zip\n",
    "#Nothing to do here?\n",
    "\n",
    "#To Do"
   ]
  },
  {
   "cell_type": "code",
   "execution_count": 10,
   "metadata": {
    "collapsed": false
   },
   "outputs": [
    {
     "data": {
      "text/plain": [
       "1    13064\n",
       "0     7883\n",
       "Name: willingToRelocate, dtype: int64"
      ]
     },
     "execution_count": 10,
     "metadata": {},
     "output_type": "execute_result"
    }
   ],
   "source": [
    "#Clean isWillingRelocate\n",
    "#To Ryan: What do the \"-1\" mean?\n",
    "#mrs[\"is_ivy\"] = (1*(mrs[\"ivy\"] == \"on\"))\n",
    "#mrs.is_ivy.value_counts()\n",
    "mrs.willingToRelocate.value_counts()\n",
    "#candidates.isWillingRelocate.value_counts()"
   ]
  },
  {
   "cell_type": "code",
   "execution_count": 11,
   "metadata": {
    "collapsed": false
   },
   "outputs": [
    {
     "data": {
      "text/plain": [
       "5      16732\n",
       "7       1560\n",
       "8       1279\n",
       "6        406\n",
       "4        265\n",
       "303      263\n",
       "1        120\n",
       "3        101\n",
       "304       92\n",
       "9         66\n",
       "306       27\n",
       "305       20\n",
       "35        14\n",
       "12         1\n",
       "2          1\n",
       "Name: source_id, dtype: int64"
      ]
     },
     "execution_count": 11,
     "metadata": {},
     "output_type": "execute_result"
    }
   ],
   "source": [
    "#Clean sourceId\n",
    "#What is this feature?\n",
    "#Source where candidate originated from. Look in data for source names\n",
    "\n",
    "mrs.source_id.value_counts()"
   ]
  },
  {
   "cell_type": "code",
   "execution_count": 12,
   "metadata": {
    "collapsed": true
   },
   "outputs": [],
   "source": [
    "#Clean yearBeganExperience\n",
    "#Use the difference between when the candidate was inputted into the database and \"yearBeganExperience\"\n",
    "#Created \"yearsOfExp\"C\n",
    "nowYear = datetime.datetime.now().year\n",
    "mrs['yearsOfExp'] = nowYear-mrs['year_began']\n",
    "\n",
    "#drop year_began later"
   ]
  },
  {
   "cell_type": "code",
   "execution_count": 13,
   "metadata": {
    "collapsed": false
   },
   "outputs": [
    {
     "name": "stdout",
     "output_type": "stream",
     "text": [
      "Eligible(USC-GC)    11142\n",
      "H1B Visa             6799\n",
      "Unknown              1190\n",
      "Other                 861\n",
      "TN Visaa              650\n",
      "EAD                   294\n",
      "U.S. Citizen            2\n",
      "Name: i9, dtype: int64\n"
     ]
    },
    {
     "data": {
      "text/plain": [
       "1    11144\n",
       "0     9803\n",
       "Name: is_citizen, dtype: int64"
      ]
     },
     "execution_count": 13,
     "metadata": {},
     "output_type": "execute_result"
    }
   ],
   "source": [
    "#Clean i9\n",
    "#To Ryan: Should create dummies from this? Does USC-GC mean US Citizen?\n",
    "mrs[\"is_citizen\"] = (1*(mrs[\"i9\"].str.contains(\"Eligible|U.S. Citizen\", na=False)))\n",
    "\n",
    "print(mrs.i9.value_counts())\n",
    "mrs.is_citizen.value_counts()\n",
    "\n",
    "#drop i9 later\n"
   ]
  },
  {
   "cell_type": "code",
   "execution_count": 82,
   "metadata": {
    "collapsed": true
   },
   "outputs": [],
   "source": [
    "#Need to clean the bottom features\n",
    "\n",
    "#Create Dummies for Functional Category\n",
    "#Also the total functional categories\n",
    "\n",
    "mrs[['cat1', 'cat2', 'cat3', 'cat4', 'cat5', 'cat6', 'cat7']] = mrs['functionalCat_id'].str.split(',', expand = True)\n",
    "dummies = pd.get_dummies(mrs[['cat1', 'cat2', 'cat3', 'cat4', 'cat5', 'cat6', 'cat7']])\n",
    "dummies = dummies.groupby(dummies.columns.str.split(\"_\").str[1],axis=1).sum()\n",
    "dummies['total'] = dummies.sum(axis=1)\n",
    "dummies = dummies.rename(columns = lambda x : 'cat_' + x)\n",
    "mrs = mrs.drop(['functionalCat_id', 'functionalCategory','cat1', 'cat2', 'cat3', 'cat4', 'cat5', 'cat6', 'cat7'], axis = 1)\n",
    "mrs = pd.concat([mrs, dummies], axis=1, join='inner')\n",
    "mrs.columns\n",
    "\n",
    "#techCatName\n",
    "#techCatId\n",
    "mrs[['tech1', 'tech2', 'tech3', 'tech4', 'tech5', 'tech6', 'tech7', 'tech8']] = \\\n",
    "mrs['technicalCat_id'].str.split(',', expand = True)\n",
    "dummies = pd.get_dummies(mrs[['tech1', 'tech2', 'tech3', 'tech4', 'tech5', 'tech6', 'tech7', 'tech8']])\n",
    "dummies = dummies.groupby(dummies.columns.str.split(\"_\").str[1],axis=1).sum()\n",
    "dummies['total'] = dummies.sum(axis=1)\n",
    "dummies = dummies.rename(columns = lambda x : 'tech_' + x)\n",
    "mrs = mrs.drop(['technicalCat_id', 'technicalCategory','tech1', 'tech2', 'tech3', 'tech4', 'tech5', 'tech6', 'tech7', 'tech8'], axis = 1)\n",
    "mrs = pd.concat([mrs, dummies], axis=1, join='inner')\n",
    "mrs.columns\n",
    "\n",
    "\n",
    "#mainCatName\n",
    "#mainCatId\n",
    "\n",
    "mrs[['main1', 'main2', 'main3', 'main4']] = mrs['mainCat_id'].str.split(',', expand = True)\n",
    "dummies = pd.get_dummies(mrs[['main1', 'main2', 'main3', 'main4']])\n",
    "dummies = dummies.groupby(dummies.columns.str.split(\"_\").str[1],axis=1).sum()\n",
    "dummies['total'] = dummies.sum(axis=1)\n",
    "dummies = dummies.rename(columns = lambda x : 'main_' + x)\n",
    "mrs = mrs.drop(['mainCat_id', 'mainCategory','main1', 'main2', 'main3', 'main4'], axis = 1)\n",
    "mrs = pd.concat([mrs, dummies], axis=1, join='inner')\n",
    "\n",
    "\n",
    "#categorys = ['functionalCategory', 'functionalCat_id', 'technicalCategory', 'technicalCat_id',\n",
    "#       'mainCategory', 'mainCat_id' ]\n",
    "#for col in categorys:\n",
    "#    if(col in mrs.columns):\n",
    "#        mrs = mrs.drop(col,1)\n",
    "#These all formatted as such value, [another value, another value]\n",
    "#For both Ids and Name. Have to decide how we're going to use it"
   ]
  },
  {
   "cell_type": "code",
   "execution_count": 83,
   "metadata": {
    "collapsed": true
   },
   "outputs": [],
   "source": [
    "postProcessDrop = ['i9', 'year_began', 'ivy', 'minority', 'gender', 'email',\n",
    "                   'clarity', 'personability', 'status_name']\n",
    "\n",
    "\n",
    "strings = ['status_name', 'title', 'date_submitted', 'fname', 'lname', 'sourceName', 'gender', 'date_created', 'i9',\n",
    "          'email', 'address', 'minority', 'ivy','address_field','clarity','personability','zip']\n",
    "\n",
    "for col in postProcessDrop:\n",
    "    if(col in mrs.columns):\n",
    "        mrs = mrs.drop(col,1)\n",
    "        \n",
    "for col in strings:\n",
    "    if(col in mrs.columns):\n",
    "        mrs = mrs.drop(col,1)\n",
    "allCol=mrs.columns\n"
   ]
  },
  {
   "cell_type": "code",
   "execution_count": 78,
   "metadata": {
    "collapsed": false
   },
   "outputs": [
    {
     "name": "stdout",
     "output_type": "stream",
     "text": [
      "       cat_1  cat_10  cat_11  cat_12  cat_13  cat_14  cat_15  cat_16  cat_17  \\\n",
      "0          0       0       0       0       0       0       2       0       0   \n",
      "1          0       0       0       0       0       0       2       0       0   \n",
      "2          0       0       0       0       0       0       2       0       0   \n",
      "3          0       0       0       0       0       0       2       0       0   \n",
      "4          0       0       0       0       0       0       0       0       0   \n",
      "5          0       0       0       0       0       0       0       0       0   \n",
      "6          0       0       0       0       0       0       0       0       0   \n",
      "7          0       0       0       0       0       0       0       0       0   \n",
      "8          0       0       0       0       0       0       0       0       0   \n",
      "9          0       0       0       0       0       0       0       0       0   \n",
      "10         0       0       0       0       0       0       0       0       0   \n",
      "11         0       0       0       0       0       0       0       0       0   \n",
      "12         0       0       0       0       0       0       0       0       0   \n",
      "13         0       0       0       0       0       0       0       0       0   \n",
      "14         0       0       0       0       0       0       0       0       0   \n",
      "15         0       0       0       0       0       0       0       0       0   \n",
      "16         0       0       0       0       0       0       0       0       0   \n",
      "17         0       0       0       0       0       0       0       0       0   \n",
      "18         0       0       0       0       0       0       0       0       0   \n",
      "19         0       0       0       0       0       0       0       0       0   \n",
      "20         0       0       0       0       0       0       0       0       0   \n",
      "21         0       0       0       0       0       0       0       0       0   \n",
      "22         0       0       0       0       0       0       0       0       0   \n",
      "23         0       0       0       0       0       0       0       0       0   \n",
      "24         0       0       0       0       0       0       0       0       0   \n",
      "25         0       0       0       0       0       0       0       0       0   \n",
      "26         0       0       0       0       0       0       0       0       0   \n",
      "27         0       0       0       0       0       0       0       0       0   \n",
      "28         0       0       0       0       0       0       0       0       0   \n",
      "29         0       0       0       0       0       0       0       0       0   \n",
      "...      ...     ...     ...     ...     ...     ...     ...     ...     ...   \n",
      "20917      0       0       0       0       0       0       0       0       0   \n",
      "20918      0       0       0       0       0       0       0       0       0   \n",
      "20919      0       0       0       0       0       0       0       0       0   \n",
      "20920      0       0       0       0       0       0       0       0       0   \n",
      "20921      0       0       0       0       0       0       0       0       0   \n",
      "20922      0       0       0       0       0       0       0       0       0   \n",
      "20923      0       0       0       0       0       0       0       0       0   \n",
      "20924      0       0       0       0       0       0       0       0       0   \n",
      "20925      0       0       0       0       0       0       0       0       0   \n",
      "20926      0       0       0       0       0       0       0       0       0   \n",
      "20927      0       0       0       0       0       0       0       0       0   \n",
      "20928      0       0       0       0       0       0       0       0       0   \n",
      "20929      0       0       0       0       0       0       0       0       0   \n",
      "20930      0       0       0       0       0       0       0       0       0   \n",
      "20931      0       0       0       0       0       0       0       0       0   \n",
      "20932      0       0       0       0       0       0       0       0       0   \n",
      "20933      0       0       0       0       0       0       0       0       0   \n",
      "20934      0       0       0       0       0       0       0       0       0   \n",
      "20935      0       0       0       0       0       0       0       0       0   \n",
      "20936      0       0       0       0       0       0       0       0       0   \n",
      "20937      0       0       0       0       0       0       0       0       0   \n",
      "20938      0       0       0       0       0       0       0       0       0   \n",
      "20939      0       0       0       0       0       0       0       0       0   \n",
      "20940      0       0       0       0       0       0       0       0       0   \n",
      "20941      2       0       0       0       0       0       0       0       0   \n",
      "20942      0       0       0       0       0       0       0       0       0   \n",
      "20943      0       0       0       0       0       0       0       0       0   \n",
      "20944      0       0       0       0       0       0       0       0       0   \n",
      "20945      0       0       0       0       0       0       0       0       0   \n",
      "20946      0       0       0       0       0       0       0       0       0   \n",
      "\n",
      "       cat_18    ...      cat_id3  \\\n",
      "0           0    ...          0.0   \n",
      "1           0    ...          0.0   \n",
      "2           0    ...          0.0   \n",
      "3           0    ...          0.0   \n",
      "4           0    ...          0.0   \n",
      "5           0    ...          0.0   \n",
      "6           0    ...          0.0   \n",
      "7           0    ...          0.0   \n",
      "8           0    ...          0.0   \n",
      "9           0    ...          0.0   \n",
      "10          0    ...          0.0   \n",
      "11          0    ...          0.0   \n",
      "12          0    ...          0.0   \n",
      "13          0    ...          0.0   \n",
      "14          0    ...          0.0   \n",
      "15          0    ...          0.0   \n",
      "16          0    ...          0.0   \n",
      "17          0    ...          0.0   \n",
      "18          0    ...          0.0   \n",
      "19          0    ...          0.0   \n",
      "20          0    ...          0.0   \n",
      "21          0    ...          0.0   \n",
      "22          0    ...          0.0   \n",
      "23          0    ...          0.0   \n",
      "24          0    ...          0.0   \n",
      "25          0    ...          0.0   \n",
      "26          0    ...          0.0   \n",
      "27          0    ...          0.0   \n",
      "28          0    ...          0.0   \n",
      "29          0    ...          0.0   \n",
      "...       ...    ...          ...   \n",
      "20917       0    ...          0.0   \n",
      "20918       0    ...          0.0   \n",
      "20919       0    ...          0.0   \n",
      "20920       0    ...          0.0   \n",
      "20921       0    ...          0.0   \n",
      "20922       0    ...          0.0   \n",
      "20923       0    ...          0.0   \n",
      "20924       0    ...          0.0   \n",
      "20925       0    ...          0.0   \n",
      "20926       0    ...          0.0   \n",
      "20927       0    ...          0.0   \n",
      "20928       0    ...          0.0   \n",
      "20929       0    ...          0.0   \n",
      "20930       0    ...          0.0   \n",
      "20931       0    ...          0.0   \n",
      "20932       0    ...          0.0   \n",
      "20933       0    ...          0.0   \n",
      "20934       0    ...          0.0   \n",
      "20935       0    ...          0.0   \n",
      "20936       0    ...          0.0   \n",
      "20937       0    ...          0.0   \n",
      "20938       0    ...          0.0   \n",
      "20939       0    ...          0.0   \n",
      "20940       0    ...          0.0   \n",
      "20941       0    ...          0.0   \n",
      "20942       0    ...          0.0   \n",
      "20943       0    ...          0.0   \n",
      "20944       0    ...          0.0   \n",
      "20945       0    ...          0.0   \n",
      "20946       0    ...          0.0   \n",
      "\n",
      "                                                cat_name  \\\n",
      "0      Position Closed Before ReviewKennan McMillanKi...   \n",
      "1      Position Closed Before ReviewKennan McMillanKi...   \n",
      "2                     SubmittedKennan McMillanKim Wathey   \n",
      "3        Interviewing - 2nd+Kennan McMillanKimberly Vaio   \n",
      "4                   SubmittedRussell VannoyMegan Franzen   \n",
      "5                   SubmittedRussell VannoyMegan Franzen   \n",
      "6      Not sent to Client/HMKennan McMillanAlec McKinley   \n",
      "7                      Took a JobAdriana AbadiKim Wathey   \n",
      "8                      Took a JobAdriana AbadiKim Wathey   \n",
      "9                      RenegedKennan McMillanCarrie Cobb   \n",
      "10                   Took a JobAdriana AbadiBrian Tesser   \n",
      "11                     Took a JobAdriana AbadiKim Wathey   \n",
      "12          Rejected by Client/HMVishal MehtaMaureen Lei   \n",
      "13          Not sent to Client/HMSarah GalvezCarrie Cobb   \n",
      "14     Position Closed Before ReviewKate ProtacioKim ...   \n",
      "15     Position Closed Before ReviewJordan PayneKim W...   \n",
      "16                       SubmittedJordan PayneKim Wathey   \n",
      "17                   SubmittedKennan McMillanCarrie Cobb   \n",
      "18         Interviewing - 1stBetsy KuhnsJulianna Wessler   \n",
      "19     Position Closed Before ReviewChloe MannKim Wathey   \n",
      "20                         SubmittedChloe MannKim Wathey   \n",
      "21         Rejected by Client/HMLanie PhillipsKim Wathey   \n",
      "22         Rejected by Client/HMLanie PhillipsKim Wathey   \n",
      "23     Position Closed Before ReviewLanie PhillipsKim...   \n",
      "24     Position Closed Before ReviewJordan PayneKim W...   \n",
      "25                       SubmittedJordan PayneKim Wathey   \n",
      "26                       SubmittedJordan PayneKim Wathey   \n",
      "27                  SubmittedAllison DenenbergKim Wathey   \n",
      "28                    SubmittedJordan PayneMegan Franzen   \n",
      "29     Position Closed Before ReviewAllison Denenberg...   \n",
      "...                                                  ...   \n",
      "20917       Rejected by Client/HMKimberly VaioKim Wathey   \n",
      "20918  Closed - Interviewing - 1stBetsy FortinKim Wathey   \n",
      "20919  Closed - Interviewing - 1stKimberly VaioKim Wa...   \n",
      "20920       Rejected by Client/HMKimberly VaioKim Wathey   \n",
      "20921       Rejected by Client/HMKimberly VaioKim Wathey   \n",
      "20922                     OfferedSarah ChiminoKim Wathey   \n",
      "20923  Closed - Interviewing - 1stDanielle SpriggsKim...   \n",
      "20924        Not sent to Client/HMJulia UribeAlex Nevins   \n",
      "20925         Rejected by Client/HMPhil FarberKim Wathey   \n",
      "20926  Position Closed Before ReviewMaureen LeiKim Wa...   \n",
      "20927  Position Closed Before ReviewSarah ChiminoKim ...   \n",
      "20928           Rejected by Client/HMMaureen LeiBen Woll   \n",
      "20929  Position Closed Before ReviewKimberly VaioPhil...   \n",
      "20930         Rejected by Client/HMSydney LimAlex Nevins   \n",
      "20931  Not sent to Client/HMDanielle SpriggsMegan Fra...   \n",
      "20932  Switched to New Job NumberJulianna WesslerMega...   \n",
      "20933  Position Closed Before ReviewMaureen LeiKim Wa...   \n",
      "20934       Rejected by Client/HMDevin McVeighKim Wathey   \n",
      "20935  Position Closed Before ReviewBrian TesserKim W...   \n",
      "20936    Not sent to Client/HMJulianna WesslerKim Wathey   \n",
      "20937    Not sent to Client/HMJulianna WesslerKim Wathey   \n",
      "20938    Rejected by Client/HMJulianna WesslerKim Wathey   \n",
      "20939                 Took a JobJessica NelsonKim Wathey   \n",
      "20940        Not sent to Client/HMVishal MehtaKim Wathey   \n",
      "20941  Position Closed Before ReviewBrian TesserPhil ...   \n",
      "20942                    PrioredTim GleesonMegan Franzen   \n",
      "20943  Position Closed Before ReviewTim GleesonKim Wa...   \n",
      "20944         Rejected by Client/HMTim GleesonKim Wathey   \n",
      "20945  Position Closed Before ReviewMaureen LeiKim Wa...   \n",
      "20946  Position Closed Before ReviewSydney LimMegan F...   \n",
      "\n",
      "                          cat_name.1  cat_notes  cat_placed  cat_process  \\\n",
      "0      Position Closed Before Review       None           0            0   \n",
      "1      Position Closed Before Review       None           0            0   \n",
      "2                          Submitted       None           0            1   \n",
      "3                Interviewing - 2nd+       None           0            1   \n",
      "4                          Submitted       None           0            1   \n",
      "5                          Submitted       None           0            1   \n",
      "6              Not sent to Client/HM       None           0            0   \n",
      "7                         Took a Job       None           0            0   \n",
      "8                         Took a Job       None           0            0   \n",
      "9                            Reneged       None           0            0   \n",
      "10                        Took a Job       None           0            0   \n",
      "11                        Took a Job       None           0            0   \n",
      "12             Rejected by Client/HM       None           0            0   \n",
      "13             Not sent to Client/HM       None           0            0   \n",
      "14     Position Closed Before Review       None           0            0   \n",
      "15     Position Closed Before Review       None           0            0   \n",
      "16                         Submitted       None           0            1   \n",
      "17                         Submitted       None           0            1   \n",
      "18                Interviewing - 1st       None           0            1   \n",
      "19     Position Closed Before Review       None           0            0   \n",
      "20                         Submitted       None           0            1   \n",
      "21             Rejected by Client/HM       None           0            0   \n",
      "22             Rejected by Client/HM       None           0            0   \n",
      "23     Position Closed Before Review       None           0            0   \n",
      "24     Position Closed Before Review       None           0            0   \n",
      "25                         Submitted       None           0            1   \n",
      "26                         Submitted       None           0            1   \n",
      "27                         Submitted       None           0            1   \n",
      "28                         Submitted       None           0            1   \n",
      "29     Position Closed Before Review       None           0            0   \n",
      "...                              ...        ...         ...          ...   \n",
      "20917          Rejected by Client/HM       None           0            0   \n",
      "20918    Closed - Interviewing - 1st       None           0            0   \n",
      "20919    Closed - Interviewing - 1st       None           0            0   \n",
      "20920          Rejected by Client/HM       None           0            0   \n",
      "20921          Rejected by Client/HM       None           0            0   \n",
      "20922                        Offered       None           0            0   \n",
      "20923    Closed - Interviewing - 1st       None           0            0   \n",
      "20924          Not sent to Client/HM       None           0            0   \n",
      "20925          Rejected by Client/HM       None           0            0   \n",
      "20926  Position Closed Before Review       None           0            0   \n",
      "20927  Position Closed Before Review       None           0            0   \n",
      "20928          Rejected by Client/HM       None           0            0   \n",
      "20929  Position Closed Before Review       None           0            0   \n",
      "20930          Rejected by Client/HM       None           0            0   \n",
      "20931          Not sent to Client/HM       None           0            0   \n",
      "20932     Switched to New Job Number       None           0            0   \n",
      "20933  Position Closed Before Review       None           0            0   \n",
      "20934          Rejected by Client/HM       None           0            0   \n",
      "20935  Position Closed Before Review       None           0            0   \n",
      "20936          Not sent to Client/HM       None           0            0   \n",
      "20937          Not sent to Client/HM       None           0            0   \n",
      "20938          Rejected by Client/HM       None           0            0   \n",
      "20939                     Took a Job       None           0            0   \n",
      "20940          Not sent to Client/HM       None           0            0   \n",
      "20941  Position Closed Before Review       None           0            0   \n",
      "20942                        Priored       None           0            0   \n",
      "20943  Position Closed Before Review       None           0            0   \n",
      "20944          Rejected by Client/HM       None           0            0   \n",
      "20945  Position Closed Before Review       None           0            0   \n",
      "20946  Position Closed Before Review       None           0            0   \n",
      "\n",
      "       cat_rockstar  cat_status        cat_submitted  cat_total  \n",
      "0                 0           6  2017-09-29 18:16:08          4  \n",
      "1                 0           6  2017-09-29 18:14:33          4  \n",
      "2                 0           8  2017-09-29 18:12:59          4  \n",
      "3                 1           8  2017-09-29 18:11:25          4  \n",
      "4                 0           4  2017-09-29 17:54:01          1  \n",
      "5                 1           4  2017-09-29 17:29:41          1  \n",
      "6                 0           6  2017-09-29 17:13:13          1  \n",
      "7                 0           6  2017-09-29 17:07:13          1  \n",
      "8                 0           6  2017-09-29 17:05:38          1  \n",
      "9                 1           4  2017-09-29 17:05:04          1  \n",
      "10                0           6  2017-09-29 17:04:04          1  \n",
      "11                0           6  2017-09-29 17:02:30          1  \n",
      "12                1           4  2017-09-29 17:00:23          1  \n",
      "13                0           8  2017-09-29 16:56:15          1  \n",
      "14                1           6  2017-09-29 16:54:57          1  \n",
      "15                0           6  2017-09-29 16:48:26          1  \n",
      "16                0           8  2017-09-29 16:46:52          1  \n",
      "17                1           8  2017-09-29 16:37:29          1  \n",
      "18                0           8  2017-09-29 16:35:22          1  \n",
      "19                0           6  2017-09-29 16:29:15          1  \n",
      "20                0           8  2017-09-29 16:27:27          1  \n",
      "21                0           6  2017-09-29 15:54:29          1  \n",
      "22                0           4  2017-09-29 15:52:33          1  \n",
      "23                0           6  2017-09-29 15:50:42          1  \n",
      "24                1           6  2017-09-29 15:47:59          1  \n",
      "25                1           8  2017-09-29 15:46:25          1  \n",
      "26                1           8  2017-09-29 15:44:51          1  \n",
      "27                0           4  2017-09-29 15:24:54          1  \n",
      "28                0           4  2017-09-29 15:24:25          1  \n",
      "29                0           6  2017-09-29 15:23:20          1  \n",
      "...             ...         ...                  ...        ...  \n",
      "20917             0           6  2016-09-30 15:23:36          1  \n",
      "20918             0           6  2016-09-30 15:22:16          1  \n",
      "20919             0           6  2016-09-30 15:19:27          1  \n",
      "20920             0           6  2016-09-30 15:18:51          1  \n",
      "20921             0           6  2016-09-30 15:16:27          1  \n",
      "20922             0           6  2016-09-30 15:16:01          1  \n",
      "20923             0           6  2016-09-30 15:15:52          1  \n",
      "20924             0           6  2016-09-30 15:15:41          1  \n",
      "20925             0           6  2016-09-30 15:15:39          1  \n",
      "20926             0           6  2016-09-30 15:14:40          1  \n",
      "20927             0           6  2016-09-30 15:14:26          1  \n",
      "20928             1           6  2016-09-30 15:13:43          1  \n",
      "20929             0           6  2016-09-30 15:07:46          1  \n",
      "20930             1           6  2016-09-30 14:50:56          1  \n",
      "20931             0           6  2016-09-30 14:44:40          1  \n",
      "20932             0           8  2016-09-30 14:29:24          1  \n",
      "20933             0           6  2016-09-30 14:27:45          1  \n",
      "20934             0           6  2016-09-30 14:18:33          1  \n",
      "20935             1           6  2016-09-30 14:15:34          1  \n",
      "20936             0           6  2016-09-30 14:13:43          1  \n",
      "20937             0           6  2016-09-30 14:12:47          1  \n",
      "20938             0           6  2016-09-30 14:11:51          1  \n",
      "20939             0           6  2016-09-30 14:10:13          1  \n",
      "20940             0           6  2016-09-30 14:09:46          1  \n",
      "20941             0           6  2016-09-30 14:08:58          1  \n",
      "20942             0           4  2016-09-30 13:49:24          1  \n",
      "20943             0           6  2016-09-30 13:48:28          1  \n",
      "20944             0           6  2016-09-30 13:47:32          1  \n",
      "20945             0           6  2016-09-30 13:30:32          1  \n",
      "20946             0           6  2016-09-30 13:04:48          1  \n",
      "\n",
      "[20947 rows x 69 columns]\n"
     ]
    }
   ],
   "source": [
    "temp = mrs.groupby(mrs.columns.str.split(\"_\").str[1],axis=1).sum()\n",
    "temp = temp.rename(columns = lambda x : 'cat_' + x)\n",
    "print(temp)"
   ]
  },
  {
   "cell_type": "code",
   "execution_count": 86,
   "metadata": {
    "collapsed": false
   },
   "outputs": [
    {
     "data": {
      "text/plain": [
       "{'candidate_id': 0,\n",
       " 'client_id': 0,\n",
       " 'consulting': 0,\n",
       " 'in_process': 0,\n",
       " 'is_aol': 0,\n",
       " 'is_citizen': 0,\n",
       " 'is_custom': 0,\n",
       " 'is_gmail': 0,\n",
       " 'is_ivy': 0,\n",
       " 'is_male': 0,\n",
       " 'is_minority': 0,\n",
       " 'is_placed': 0,\n",
       " 'is_rockstar': 0,\n",
       " 'permanent': 0,\n",
       " 'recruiter_id': 0,\n",
       " 'source_id': 0,\n",
       " 'status_id': 0,\n",
       " 'willingToRelocate': 0,\n",
       " 'yearsOfExp': 0}"
      ]
     },
     "execution_count": 86,
     "metadata": {},
     "output_type": "execute_result"
    }
   ],
   "source": [
    "mrs['yearsOfExp'].fillna(value=0, inplace=True)\n",
    "Possible_values = {col: mrs[col].isnull().sum() for col in mrs.columns}\n",
    "Possible_values"
   ]
  },
  {
   "cell_type": "code",
   "execution_count": 87,
   "metadata": {
    "collapsed": false
   },
   "outputs": [
    {
     "name": "stdout",
     "output_type": "stream",
     "text": [
      "Train dataset info:\n",
      " 0    14529\n",
      "1      134\n",
      "Name: is_placed, dtype: int64\n",
      "Test dataset info:\n",
      " 0    6219\n",
      "1      65\n",
      "Name: is_placed, dtype: int64\n"
     ]
    }
   ],
   "source": [
    "#Train and Test data split\n",
    "train_split = 0.7\n",
    "train = mrs.sample(frac=train_split)\n",
    "print (\"Train dataset info:\\n\", train.is_placed.value_counts())\n",
    "test = mrs.loc[~mrs.index.isin(train.index)]\n",
    "print (\"Test dataset info:\\n\", test.is_placed.value_counts())\n",
    "\n",
    "train.to_csv(\"cleaned_mostRecStat_train.csv\",index=False)\n",
    "test.to_csv(\"cleaned_mostRecStat_test.csv\",index=False)"
   ]
  },
  {
   "cell_type": "code",
   "execution_count": null,
   "metadata": {
    "collapsed": true
   },
   "outputs": [],
   "source": []
  },
  {
   "cell_type": "code",
   "execution_count": null,
   "metadata": {
    "collapsed": true
   },
   "outputs": [],
   "source": []
  }
 ],
 "metadata": {
  "kernelspec": {
   "display_name": "Python 3",
   "language": "python",
   "name": "python3"
  },
  "language_info": {
   "codemirror_mode": {
    "name": "ipython",
    "version": 3
   },
   "file_extension": ".py",
   "mimetype": "text/x-python",
   "name": "python",
   "nbconvert_exporter": "python",
   "pygments_lexer": "ipython3",
   "version": "3.6.0"
  }
 },
 "nbformat": 4,
 "nbformat_minor": 2
}
